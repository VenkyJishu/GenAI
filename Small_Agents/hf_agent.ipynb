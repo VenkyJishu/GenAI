{
 "cells": [
  {
   "cell_type": "code",
   "execution_count": 7,
   "metadata": {},
   "outputs": [
    {
     "data": {
      "text/plain": [
       "True"
      ]
     },
     "execution_count": 7,
     "metadata": {},
     "output_type": "execute_result"
    }
   ],
   "source": [
    "from dotenv import load_dotenv\n",
    "load_dotenv()"
   ]
  },
  {
   "cell_type": "code",
   "execution_count": 1,
   "metadata": {},
   "outputs": [
    {
     "name": "stderr",
     "output_type": "stream",
     "text": [
      "c:\\Anaconda\\envs\\jishu_env\\lib\\site-packages\\tqdm\\auto.py:21: TqdmWarning: IProgress not found. Please update jupyter and ipywidgets. See https://ipywidgets.readthedocs.io/en/stable/user_install.html\n",
      "  from .autonotebook import tqdm as notebook_tqdm\n"
     ]
    }
   ],
   "source": [
    "from smolagents import CodeAgent,DuckDuckGoSearchTool,HfApiModel\n"
   ]
  },
  {
   "cell_type": "code",
   "execution_count": 2,
   "metadata": {},
   "outputs": [],
   "source": [
    "model = HfApiModel()"
   ]
  },
  {
   "cell_type": "code",
   "execution_count": 3,
   "metadata": {},
   "outputs": [],
   "source": [
    "agent = CodeAgent(tools=[DuckDuckGoSearchTool()],model=model)"
   ]
  },
  {
   "cell_type": "code",
   "execution_count": 4,
   "metadata": {},
   "outputs": [
    {
     "data": {
      "text/html": [
       "<pre style=\"white-space:pre;overflow-x:auto;line-height:normal;font-family:Menlo,'DejaVu Sans Mono',consolas,'Courier New',monospace\"><span style=\"color: #d4b702; text-decoration-color: #d4b702\">╭──────────────────────────────────────────────────── </span><span style=\"color: #d4b702; text-decoration-color: #d4b702; font-weight: bold\">New run</span><span style=\"color: #d4b702; text-decoration-color: #d4b702\"> ────────────────────────────────────────────────────╮</span>\n",
       "<span style=\"color: #d4b702; text-decoration-color: #d4b702\">│</span>                                                                                                                 <span style=\"color: #d4b702; text-decoration-color: #d4b702\">│</span>\n",
       "<span style=\"color: #d4b702; text-decoration-color: #d4b702\">│</span> <span style=\"font-weight: bold\">what is Gen AI</span>                                                                                                  <span style=\"color: #d4b702; text-decoration-color: #d4b702\">│</span>\n",
       "<span style=\"color: #d4b702; text-decoration-color: #d4b702\">│</span>                                                                                                                 <span style=\"color: #d4b702; text-decoration-color: #d4b702\">│</span>\n",
       "<span style=\"color: #d4b702; text-decoration-color: #d4b702\">╰─ HfApiModel - Qwen/Qwen2.5-Coder-32B-Instruct ──────────────────────────────────────────────────────────────────╯</span>\n",
       "</pre>\n"
      ],
      "text/plain": [
       "\u001b[38;2;212;183;2m╭─\u001b[0m\u001b[38;2;212;183;2m───────────────────────────────────────────────────\u001b[0m\u001b[38;2;212;183;2m \u001b[0m\u001b[1;38;2;212;183;2mNew run\u001b[0m\u001b[38;2;212;183;2m \u001b[0m\u001b[38;2;212;183;2m───────────────────────────────────────────────────\u001b[0m\u001b[38;2;212;183;2m─╮\u001b[0m\n",
       "\u001b[38;2;212;183;2m│\u001b[0m                                                                                                                 \u001b[38;2;212;183;2m│\u001b[0m\n",
       "\u001b[38;2;212;183;2m│\u001b[0m \u001b[1mwhat is Gen AI\u001b[0m                                                                                                  \u001b[38;2;212;183;2m│\u001b[0m\n",
       "\u001b[38;2;212;183;2m│\u001b[0m                                                                                                                 \u001b[38;2;212;183;2m│\u001b[0m\n",
       "\u001b[38;2;212;183;2m╰─\u001b[0m\u001b[38;2;212;183;2m HfApiModel - Qwen/Qwen2.5-Coder-32B-Instruct \u001b[0m\u001b[38;2;212;183;2m─────────────────────────────────────────────────────────────────\u001b[0m\u001b[38;2;212;183;2m─╯\u001b[0m\n"
      ]
     },
     "metadata": {},
     "output_type": "display_data"
    },
    {
     "data": {
      "text/html": [
       "<pre style=\"white-space:pre;overflow-x:auto;line-height:normal;font-family:Menlo,'DejaVu Sans Mono',consolas,'Courier New',monospace\"><span style=\"color: #d4b702; text-decoration-color: #d4b702\">━━━━━━━━━━━━━━━━━━━━━━━━━━━━━━━━━━━━━━━━━━━━━━━━━━━━━ </span><span style=\"font-weight: bold\">Step </span><span style=\"color: #008080; text-decoration-color: #008080; font-weight: bold\">1</span><span style=\"color: #d4b702; text-decoration-color: #d4b702\"> ━━━━━━━━━━━━━━━━━━━━━━━━━━━━━━━━━━━━━━━━━━━━━━━━━━━━━━</span>\n",
       "</pre>\n"
      ],
      "text/plain": [
       "\u001b[38;2;212;183;2m━━━━━━━━━━━━━━━━━━━━━━━━━━━━━━━━━━━━━━━━━━━━━━━━━━━━━ \u001b[0m\u001b[1mStep \u001b[0m\u001b[1;36m1\u001b[0m\u001b[38;2;212;183;2m ━━━━━━━━━━━━━━━━━━━━━━━━━━━━━━━━━━━━━━━━━━━━━━━━━━━━━━\u001b[0m\n"
      ]
     },
     "metadata": {},
     "output_type": "display_data"
    },
    {
     "data": {
      "text/html": [
       "<pre style=\"white-space:pre;overflow-x:auto;line-height:normal;font-family:Menlo,'DejaVu Sans Mono',consolas,'Courier New',monospace\"> ─ <span style=\"font-weight: bold\">Executing parsed code:</span> ──────────────────────────────────────────────────────────────────────────────────────── \n",
       "  <span style=\"color: #f8f8f2; text-decoration-color: #f8f8f2; background-color: #272822\">gen_ai_info </span><span style=\"color: #ff4689; text-decoration-color: #ff4689; background-color: #272822\">=</span><span style=\"color: #f8f8f2; text-decoration-color: #f8f8f2; background-color: #272822\"> web_search(query</span><span style=\"color: #ff4689; text-decoration-color: #ff4689; background-color: #272822\">=</span><span style=\"color: #e6db74; text-decoration-color: #e6db74; background-color: #272822\">\"Gen AI\"</span><span style=\"color: #f8f8f2; text-decoration-color: #f8f8f2; background-color: #272822\">)</span><span style=\"background-color: #272822\">                                                                       </span>  \n",
       "  <span style=\"color: #f8f8f2; text-decoration-color: #f8f8f2; background-color: #272822\">print(gen_ai_info)</span><span style=\"background-color: #272822\">                                                                                             </span>  \n",
       " ───────────────────────────────────────────────────────────────────────────────────────────────────────────────── \n",
       "</pre>\n"
      ],
      "text/plain": [
       " ─ \u001b[1mExecuting parsed code:\u001b[0m ──────────────────────────────────────────────────────────────────────────────────────── \n",
       "  \u001b[38;2;248;248;242;48;2;39;40;34mgen_ai_info\u001b[0m\u001b[38;2;248;248;242;48;2;39;40;34m \u001b[0m\u001b[38;2;255;70;137;48;2;39;40;34m=\u001b[0m\u001b[38;2;248;248;242;48;2;39;40;34m \u001b[0m\u001b[38;2;248;248;242;48;2;39;40;34mweb_search\u001b[0m\u001b[38;2;248;248;242;48;2;39;40;34m(\u001b[0m\u001b[38;2;248;248;242;48;2;39;40;34mquery\u001b[0m\u001b[38;2;255;70;137;48;2;39;40;34m=\u001b[0m\u001b[38;2;230;219;116;48;2;39;40;34m\"\u001b[0m\u001b[38;2;230;219;116;48;2;39;40;34mGen AI\u001b[0m\u001b[38;2;230;219;116;48;2;39;40;34m\"\u001b[0m\u001b[38;2;248;248;242;48;2;39;40;34m)\u001b[0m\u001b[48;2;39;40;34m                                                                       \u001b[0m  \n",
       "  \u001b[38;2;248;248;242;48;2;39;40;34mprint\u001b[0m\u001b[38;2;248;248;242;48;2;39;40;34m(\u001b[0m\u001b[38;2;248;248;242;48;2;39;40;34mgen_ai_info\u001b[0m\u001b[38;2;248;248;242;48;2;39;40;34m)\u001b[0m\u001b[48;2;39;40;34m                                                                                             \u001b[0m  \n",
       " ───────────────────────────────────────────────────────────────────────────────────────────────────────────────── \n"
      ]
     },
     "metadata": {},
     "output_type": "display_data"
    },
    {
     "data": {
      "text/html": [
       "<pre style=\"white-space:pre;overflow-x:auto;line-height:normal;font-family:Menlo,'DejaVu Sans Mono',consolas,'Courier New',monospace\"><span style=\"font-weight: bold\">Execution logs:</span>\n",
       "## Search Results\n",
       "\n",
       "[Generative artificial intelligence - Wikipedia](https://en.wikipedia.org/wiki/Generative_artificial_intelligence)\n",
       "Generative artificial intelligence (generative AI, GenAI, [1] or GAI) is a subset of artificial intelligence that \n",
       "uses generative models to produce text, images, videos, or other forms of data. [2] [3] [4] These models learn the \n",
       "underlying patterns and structures of their training data and use them to produce new data [5] [6] based on the \n",
       "input, which often comes in the form of natural ...\n",
       "\n",
       "[What is Generative AI? - IBM](https://www.ibm.com/think/topics/generative-ai)\n",
       "For the most part, generative AI operates in three phases: Training, to create a foundation model that can serve as\n",
       "the basis of multiple gen AI applications.; Tuning, to tailor the foundation model to a specific gen AI \n",
       "application.; Generation, evaluation and retuning, to assess the gen AI application's output and continually \n",
       "improve its quality and accuracy.\n",
       "\n",
       "[What is Generative AI? - Examples, Definition &amp; Models](https://www.geeksforgeeks.org/what-is-generative-ai/)\n",
       "Generative artificial intelligence, often called generative AI or gen AI, is a type of AI that can create new \n",
       "content like conversations, stories, images, videos, and music. It can learn about different topics such as \n",
       "languages, programming, art, science, and more, and use this knowledge to solve new problems.\n",
       "\n",
       "[Generative AI: What Is It, Tools, Models, Applications and ... - \n",
       "Gartner](https://www.gartner.com/en/topics/generative-ai)\n",
       "Generative AI is a type of AI (such as ChatGPT) that can generate new forms of creative content, such as audio, \n",
       "code, images, text, simulations and videos. ... Many enterprises have generative AI pilots for code generation, \n",
       "text generation or visual design underway. To establish a pilot, you can take one of three routes: ...\n",
       "\n",
       "[What is GenAI? Generative AI explained - \n",
       "TechTarget](https://www.techtarget.com/searchenterpriseai/definition/generative-AI)\n",
       "Generative AI often starts with a prompt that lets a user or data source submit a starting query or data set to \n",
       "guide content generation. This can be an iterative process to explore content variations. Traditional AI \n",
       "algorithms, on the other hand, often follow a predefined set of rules to process data and produce a result.\n",
       "\n",
       "[Generative AI](https://generativeai.net/)\n",
       "Generative AI creates new content, like text or images, based on patterns in data.Large Language Models (LLMs) are \n",
       "a powerful form of this AI, generating human-like text, while Small Language Models (SLMs) focus on specialized \n",
       "tasks with less data.Retrieval-Augmented Generation (RAG) enhances these models by pulling in external information \n",
       "for more accurate results.\n",
       "\n",
       "[Introduction to Generative AI | Google Cloud Skills Boost - \n",
       "Qwiklabs](https://www.cloudskillsboost.google/course_templates/536)\n",
       "&lt;p&gt;This is an introductory level microlearning course aimed at explaining what Generative AI is, how it is used, \n",
       "and how it differs from traditional machine learning methods. It also covers Google Tools to help you develop your \n",
       "own Gen AI apps.&lt;/p&gt;\n",
       "\n",
       "[What Is Generative AI? Definition, Applications, and \n",
       "Impact](https://www.coursera.org/articles/what-is-generative-ai)\n",
       "Generative artificial intelligence (AI) is a type of AI that generates images, text, videos, and other media in \n",
       "response to inputted prompts.. AI generators like ChatGPT and DALL-E are gaining worldwide popularity. These \n",
       "programs respond to prompts input by users. Submit a text prompt, and the generator will produce an output, whether\n",
       "it is a story or outline from ChatGPT or a monkey painted ...\n",
       "\n",
       "[Generative AI services - \n",
       "Deloitte](https://www.deloitte.com/global/en/what-we-do/capabilities/gen-ai-services.html)\n",
       "Generative AI is a priority for leaders: According to our Fortune/Deloitte survey on Generative AI for CEOs, 79% \n",
       "say accelerating innovation is a top use case for it. This collection of perspectives outlines Generative AI for \n",
       "business leaders to help you avoid the pitfalls of past innovation cycles while setting a vision to maximize value.\n",
       "\n",
       "[Explained: Generative AI | MIT News | Massachusetts Institute of \n",
       "Technology](https://news.mit.edu/2023/explained-generative-ai-1109)\n",
       "Before the generative AI boom of the past few years, when people talked about AI, typically they were talking about\n",
       "machine-learning models that can learn to make a prediction based on data. For instance, such models are trained, \n",
       "using millions of examples, to predict whether a certain X-ray shows signs of a tumor or if a particular borrower \n",
       "is ...\n",
       "\n",
       "Out: None\n",
       "</pre>\n"
      ],
      "text/plain": [
       "\u001b[1mExecution logs:\u001b[0m\n",
       "## Search Results\n",
       "\n",
       "[Generative artificial intelligence - Wikipedia](https://en.wikipedia.org/wiki/Generative_artificial_intelligence)\n",
       "Generative artificial intelligence (generative AI, GenAI, [1] or GAI) is a subset of artificial intelligence that \n",
       "uses generative models to produce text, images, videos, or other forms of data. [2] [3] [4] These models learn the \n",
       "underlying patterns and structures of their training data and use them to produce new data [5] [6] based on the \n",
       "input, which often comes in the form of natural ...\n",
       "\n",
       "[What is Generative AI? - IBM](https://www.ibm.com/think/topics/generative-ai)\n",
       "For the most part, generative AI operates in three phases: Training, to create a foundation model that can serve as\n",
       "the basis of multiple gen AI applications.; Tuning, to tailor the foundation model to a specific gen AI \n",
       "application.; Generation, evaluation and retuning, to assess the gen AI application's output and continually \n",
       "improve its quality and accuracy.\n",
       "\n",
       "[What is Generative AI? - Examples, Definition & Models](https://www.geeksforgeeks.org/what-is-generative-ai/)\n",
       "Generative artificial intelligence, often called generative AI or gen AI, is a type of AI that can create new \n",
       "content like conversations, stories, images, videos, and music. It can learn about different topics such as \n",
       "languages, programming, art, science, and more, and use this knowledge to solve new problems.\n",
       "\n",
       "[Generative AI: What Is It, Tools, Models, Applications and ... - \n",
       "Gartner](https://www.gartner.com/en/topics/generative-ai)\n",
       "Generative AI is a type of AI (such as ChatGPT) that can generate new forms of creative content, such as audio, \n",
       "code, images, text, simulations and videos. ... Many enterprises have generative AI pilots for code generation, \n",
       "text generation or visual design underway. To establish a pilot, you can take one of three routes: ...\n",
       "\n",
       "[What is GenAI? Generative AI explained - \n",
       "TechTarget](https://www.techtarget.com/searchenterpriseai/definition/generative-AI)\n",
       "Generative AI often starts with a prompt that lets a user or data source submit a starting query or data set to \n",
       "guide content generation. This can be an iterative process to explore content variations. Traditional AI \n",
       "algorithms, on the other hand, often follow a predefined set of rules to process data and produce a result.\n",
       "\n",
       "[Generative AI](https://generativeai.net/)\n",
       "Generative AI creates new content, like text or images, based on patterns in data.Large Language Models (LLMs) are \n",
       "a powerful form of this AI, generating human-like text, while Small Language Models (SLMs) focus on specialized \n",
       "tasks with less data.Retrieval-Augmented Generation (RAG) enhances these models by pulling in external information \n",
       "for more accurate results.\n",
       "\n",
       "[Introduction to Generative AI | Google Cloud Skills Boost - \n",
       "Qwiklabs](https://www.cloudskillsboost.google/course_templates/536)\n",
       "<p>This is an introductory level microlearning course aimed at explaining what Generative AI is, how it is used, \n",
       "and how it differs from traditional machine learning methods. It also covers Google Tools to help you develop your \n",
       "own Gen AI apps.</p>\n",
       "\n",
       "[What Is Generative AI? Definition, Applications, and \n",
       "Impact](https://www.coursera.org/articles/what-is-generative-ai)\n",
       "Generative artificial intelligence (AI) is a type of AI that generates images, text, videos, and other media in \n",
       "response to inputted prompts.. AI generators like ChatGPT and DALL-E are gaining worldwide popularity. These \n",
       "programs respond to prompts input by users. Submit a text prompt, and the generator will produce an output, whether\n",
       "it is a story or outline from ChatGPT or a monkey painted ...\n",
       "\n",
       "[Generative AI services - \n",
       "Deloitte](https://www.deloitte.com/global/en/what-we-do/capabilities/gen-ai-services.html)\n",
       "Generative AI is a priority for leaders: According to our Fortune/Deloitte survey on Generative AI for CEOs, 79% \n",
       "say accelerating innovation is a top use case for it. This collection of perspectives outlines Generative AI for \n",
       "business leaders to help you avoid the pitfalls of past innovation cycles while setting a vision to maximize value.\n",
       "\n",
       "[Explained: Generative AI | MIT News | Massachusetts Institute of \n",
       "Technology](https://news.mit.edu/2023/explained-generative-ai-1109)\n",
       "Before the generative AI boom of the past few years, when people talked about AI, typically they were talking about\n",
       "machine-learning models that can learn to make a prediction based on data. For instance, such models are trained, \n",
       "using millions of examples, to predict whether a certain X-ray shows signs of a tumor or if a particular borrower \n",
       "is ...\n",
       "\n",
       "Out: None\n"
      ]
     },
     "metadata": {},
     "output_type": "display_data"
    },
    {
     "data": {
      "text/html": [
       "<pre style=\"white-space:pre;overflow-x:auto;line-height:normal;font-family:Menlo,'DejaVu Sans Mono',consolas,'Courier New',monospace\"><span style=\"color: #7f7f7f; text-decoration-color: #7f7f7f\">[Step 1: Duration 7.14 seconds| Input tokens: 2,074 | Output tokens: 60]</span>\n",
       "</pre>\n"
      ],
      "text/plain": [
       "\u001b[2m[Step 1: Duration 7.14 seconds| Input tokens: 2,074 | Output tokens: 60]\u001b[0m\n"
      ]
     },
     "metadata": {},
     "output_type": "display_data"
    },
    {
     "data": {
      "text/html": [
       "<pre style=\"white-space:pre;overflow-x:auto;line-height:normal;font-family:Menlo,'DejaVu Sans Mono',consolas,'Courier New',monospace\"><span style=\"color: #d4b702; text-decoration-color: #d4b702\">━━━━━━━━━━━━━━━━━━━━━━━━━━━━━━━━━━━━━━━━━━━━━━━━━━━━━ </span><span style=\"font-weight: bold\">Step </span><span style=\"color: #008080; text-decoration-color: #008080; font-weight: bold\">2</span><span style=\"color: #d4b702; text-decoration-color: #d4b702\"> ━━━━━━━━━━━━━━━━━━━━━━━━━━━━━━━━━━━━━━━━━━━━━━━━━━━━━━</span>\n",
       "</pre>\n"
      ],
      "text/plain": [
       "\u001b[38;2;212;183;2m━━━━━━━━━━━━━━━━━━━━━━━━━━━━━━━━━━━━━━━━━━━━━━━━━━━━━ \u001b[0m\u001b[1mStep \u001b[0m\u001b[1;36m2\u001b[0m\u001b[38;2;212;183;2m ━━━━━━━━━━━━━━━━━━━━━━━━━━━━━━━━━━━━━━━━━━━━━━━━━━━━━━\u001b[0m\n"
      ]
     },
     "metadata": {},
     "output_type": "display_data"
    },
    {
     "data": {
      "text/html": [
       "<pre style=\"white-space:pre;overflow-x:auto;line-height:normal;font-family:Menlo,'DejaVu Sans Mono',consolas,'Courier New',monospace\"> ─ <span style=\"font-weight: bold\">Executing parsed code:</span> ──────────────────────────────────────────────────────────────────────────────────────── \n",
       "  <span style=\"color: #f8f8f2; text-decoration-color: #f8f8f2; background-color: #272822\">final_answer(</span><span style=\"color: #e6db74; text-decoration-color: #e6db74; background-color: #272822\">\"Gen AI, or Generative AI, is a type of AI that uses generative models to create new content like </span>  \n",
       "  <span style=\"color: #e6db74; text-decoration-color: #e6db74; background-color: #272822\">text, images, videos, and other media based on learned patterns from training data.\"</span><span style=\"color: #f8f8f2; text-decoration-color: #f8f8f2; background-color: #272822\">)</span><span style=\"background-color: #272822\">                          </span>  \n",
       " ───────────────────────────────────────────────────────────────────────────────────────────────────────────────── \n",
       "</pre>\n"
      ],
      "text/plain": [
       " ─ \u001b[1mExecuting parsed code:\u001b[0m ──────────────────────────────────────────────────────────────────────────────────────── \n",
       "  \u001b[38;2;248;248;242;48;2;39;40;34mfinal_answer\u001b[0m\u001b[38;2;248;248;242;48;2;39;40;34m(\u001b[0m\u001b[38;2;230;219;116;48;2;39;40;34m\"\u001b[0m\u001b[38;2;230;219;116;48;2;39;40;34mGen AI, or Generative AI, is a type of AI that uses generative models to create new content like \u001b[0m  \n",
       "  \u001b[38;2;230;219;116;48;2;39;40;34mtext, images, videos, and other media based on learned patterns from training data.\u001b[0m\u001b[38;2;230;219;116;48;2;39;40;34m\"\u001b[0m\u001b[38;2;248;248;242;48;2;39;40;34m)\u001b[0m\u001b[48;2;39;40;34m                          \u001b[0m  \n",
       " ───────────────────────────────────────────────────────────────────────────────────────────────────────────────── \n"
      ]
     },
     "metadata": {},
     "output_type": "display_data"
    },
    {
     "data": {
      "text/html": [
       "<pre style=\"white-space:pre;overflow-x:auto;line-height:normal;font-family:Menlo,'DejaVu Sans Mono',consolas,'Courier New',monospace\"><span style=\"color: #d4b702; text-decoration-color: #d4b702; font-weight: bold\">Out - Final answer: Gen AI, or Generative AI, is a type of AI that uses generative models to create new content </span>\n",
       "<span style=\"color: #d4b702; text-decoration-color: #d4b702; font-weight: bold\">like text, images, videos, and other media based on learned patterns from training data.</span>\n",
       "</pre>\n"
      ],
      "text/plain": [
       "\u001b[1;38;2;212;183;2mOut - Final answer: Gen AI, or Generative AI, is a type of AI that uses generative models to create new content \u001b[0m\n",
       "\u001b[1;38;2;212;183;2mlike text, images, videos, and other media based on learned patterns from training data.\u001b[0m\n"
      ]
     },
     "metadata": {},
     "output_type": "display_data"
    },
    {
     "data": {
      "text/html": [
       "<pre style=\"white-space:pre;overflow-x:auto;line-height:normal;font-family:Menlo,'DejaVu Sans Mono',consolas,'Courier New',monospace\"><span style=\"color: #7f7f7f; text-decoration-color: #7f7f7f\">[Step 2: Duration 7.90 seconds| Input tokens: 5,281 | Output tokens: 189]</span>\n",
       "</pre>\n"
      ],
      "text/plain": [
       "\u001b[2m[Step 2: Duration 7.90 seconds| Input tokens: 5,281 | Output tokens: 189]\u001b[0m\n"
      ]
     },
     "metadata": {},
     "output_type": "display_data"
    },
    {
     "data": {
      "text/plain": [
       "'Gen AI, or Generative AI, is a type of AI that uses generative models to create new content like text, images, videos, and other media based on learned patterns from training data.'"
      ]
     },
     "execution_count": 4,
     "metadata": {},
     "output_type": "execute_result"
    }
   ],
   "source": [
    "agent.run(\"what is Gen AI\")"
   ]
  },
  {
   "cell_type": "code",
   "execution_count": 5,
   "metadata": {},
   "outputs": [],
   "source": [
    "from smolagents import ToolCallingAgent\n",
    "tool_Agent = ToolCallingAgent(tools=[DuckDuckGoSearchTool()],model=model)\n"
   ]
  },
  {
   "cell_type": "code",
   "execution_count": 6,
   "metadata": {},
   "outputs": [
    {
     "data": {
      "text/html": [
       "<pre style=\"white-space:pre;overflow-x:auto;line-height:normal;font-family:Menlo,'DejaVu Sans Mono',consolas,'Courier New',monospace\"><span style=\"color: #d4b702; text-decoration-color: #d4b702\">╭──────────────────────────────────────────────────── </span><span style=\"color: #d4b702; text-decoration-color: #d4b702; font-weight: bold\">New run</span><span style=\"color: #d4b702; text-decoration-color: #d4b702\"> ────────────────────────────────────────────────────╮</span>\n",
       "<span style=\"color: #d4b702; text-decoration-color: #d4b702\">│</span>                                                                                                                 <span style=\"color: #d4b702; text-decoration-color: #d4b702\">│</span>\n",
       "<span style=\"color: #d4b702; text-decoration-color: #d4b702\">│</span> <span style=\"font-weight: bold\">which is best 1.5 ton air conditioner in indian market</span>                                                          <span style=\"color: #d4b702; text-decoration-color: #d4b702\">│</span>\n",
       "<span style=\"color: #d4b702; text-decoration-color: #d4b702\">│</span>                                                                                                                 <span style=\"color: #d4b702; text-decoration-color: #d4b702\">│</span>\n",
       "<span style=\"color: #d4b702; text-decoration-color: #d4b702\">╰─ HfApiModel - Qwen/Qwen2.5-Coder-32B-Instruct ──────────────────────────────────────────────────────────────────╯</span>\n",
       "</pre>\n"
      ],
      "text/plain": [
       "\u001b[38;2;212;183;2m╭─\u001b[0m\u001b[38;2;212;183;2m───────────────────────────────────────────────────\u001b[0m\u001b[38;2;212;183;2m \u001b[0m\u001b[1;38;2;212;183;2mNew run\u001b[0m\u001b[38;2;212;183;2m \u001b[0m\u001b[38;2;212;183;2m───────────────────────────────────────────────────\u001b[0m\u001b[38;2;212;183;2m─╮\u001b[0m\n",
       "\u001b[38;2;212;183;2m│\u001b[0m                                                                                                                 \u001b[38;2;212;183;2m│\u001b[0m\n",
       "\u001b[38;2;212;183;2m│\u001b[0m \u001b[1mwhich is best 1.5 ton air conditioner in indian market\u001b[0m                                                          \u001b[38;2;212;183;2m│\u001b[0m\n",
       "\u001b[38;2;212;183;2m│\u001b[0m                                                                                                                 \u001b[38;2;212;183;2m│\u001b[0m\n",
       "\u001b[38;2;212;183;2m╰─\u001b[0m\u001b[38;2;212;183;2m HfApiModel - Qwen/Qwen2.5-Coder-32B-Instruct \u001b[0m\u001b[38;2;212;183;2m─────────────────────────────────────────────────────────────────\u001b[0m\u001b[38;2;212;183;2m─╯\u001b[0m\n"
      ]
     },
     "metadata": {},
     "output_type": "display_data"
    },
    {
     "data": {
      "text/html": [
       "<pre style=\"white-space:pre;overflow-x:auto;line-height:normal;font-family:Menlo,'DejaVu Sans Mono',consolas,'Courier New',monospace\"><span style=\"color: #d4b702; text-decoration-color: #d4b702\">━━━━━━━━━━━━━━━━━━━━━━━━━━━━━━━━━━━━━━━━━━━━━━━━━━━━━ </span><span style=\"font-weight: bold\">Step </span><span style=\"color: #008080; text-decoration-color: #008080; font-weight: bold\">1</span><span style=\"color: #d4b702; text-decoration-color: #d4b702\"> ━━━━━━━━━━━━━━━━━━━━━━━━━━━━━━━━━━━━━━━━━━━━━━━━━━━━━━</span>\n",
       "</pre>\n"
      ],
      "text/plain": [
       "\u001b[38;2;212;183;2m━━━━━━━━━━━━━━━━━━━━━━━━━━━━━━━━━━━━━━━━━━━━━━━━━━━━━ \u001b[0m\u001b[1mStep \u001b[0m\u001b[1;36m1\u001b[0m\u001b[38;2;212;183;2m ━━━━━━━━━━━━━━━━━━━━━━━━━━━━━━━━━━━━━━━━━━━━━━━━━━━━━━\u001b[0m\n"
      ]
     },
     "metadata": {},
     "output_type": "display_data"
    },
    {
     "data": {
      "text/html": [
       "<pre style=\"white-space:pre;overflow-x:auto;line-height:normal;font-family:Menlo,'DejaVu Sans Mono',consolas,'Courier New',monospace\">╭─────────────────────────────────────────────────────────────────────────────────────────────────────────────────╮\n",
       "│ Calling tool: 'web_search' with arguments: {'query': 'best 1. 5 ton air conditioner in indian market'}          │\n",
       "╰─────────────────────────────────────────────────────────────────────────────────────────────────────────────────╯\n",
       "</pre>\n"
      ],
      "text/plain": [
       "╭─────────────────────────────────────────────────────────────────────────────────────────────────────────────────╮\n",
       "│ Calling tool: 'web_search' with arguments: {'query': 'best 1. 5 ton air conditioner in indian market'}          │\n",
       "╰─────────────────────────────────────────────────────────────────────────────────────────────────────────────────╯\n"
      ]
     },
     "metadata": {},
     "output_type": "display_data"
    },
    {
     "data": {
      "text/html": [
       "<pre style=\"white-space:pre;overflow-x:auto;line-height:normal;font-family:Menlo,'DejaVu Sans Mono',consolas,'Courier New',monospace\">Observations: ## Search Results\n",
       "\n",
       "|<span style=\"color: #008080; text-decoration-color: #008080; font-weight: bold\">10</span> Best <span style=\"color: #008080; text-decoration-color: #008080; font-weight: bold\">1.5</span> Ton AC in India <span style=\"color: #008080; text-decoration-color: #008080; font-weight: bold\">2024</span> - Buyers Guide - The New Indian \n",
       "Express<span style=\"font-weight: bold\">](</span><span style=\"color: #0000ff; text-decoration-color: #0000ff; text-decoration: underline\">https://www.newindianexpress.com/expressdeals/appliances/best-15-ton-ac)</span>\n",
       "Yes, some of these air conditioners may be controllable using a mobile app, particularly those with Wi-Fi \n",
       "connectivity or smart features like the Panasonic <span style=\"color: #008080; text-decoration-color: #008080; font-weight: bold\">1.5</span> Ton <span style=\"color: #008080; text-decoration-color: #008080; font-weight: bold\">5</span> Star Wi-Fi <span style=\"color: #008080; text-decoration-color: #008080; font-weight: bold\">7</span>-in-<span style=\"color: #008080; text-decoration-color: #008080; font-weight: bold\">1</span> Convertible <span style=\"color: #808000; text-decoration-color: #808000\">...</span>\n",
       "\n",
       "|<span style=\"color: #008080; text-decoration-color: #008080; font-weight: bold\">1.5</span> Ton <span style=\"color: #008080; text-decoration-color: #008080; font-weight: bold\">5</span> Star ACs: Best Split Air Conditioners in \n",
       "India<span style=\"font-weight: bold\">](</span><span style=\"color: #0000ff; text-decoration-color: #0000ff; text-decoration: underline\">https://www.smartprix.com/bytes/best-1-5-ton-5-star-split-air-conditioners-to-purchase-in-india/)</span>\n",
       "O-General is generally considered among the best air conditioner companies selling in India. With a copper \n",
       "condenser and evaporator, the <span style=\"color: #008080; text-decoration-color: #008080; font-weight: bold\">1.5</span> Ton <span style=\"color: #008080; text-decoration-color: #008080; font-weight: bold\">3</span> Star Split Inverter AC supports ambient temperatures from <span style=\"color: #008080; text-decoration-color: #008080; font-weight: bold\">18</span>°C to <span style=\"color: #008080; text-decoration-color: #008080; font-weight: bold\">55</span>°C and \n",
       "provides precise temperature control of up to <span style=\"color: #008080; text-decoration-color: #008080; font-weight: bold\">0.5</span>°C. It consumes up to <span style=\"color: #008080; text-decoration-color: #008080; font-weight: bold\">1</span>,880W of power at full load.\n",
       "\n",
       "|<span style=\"color: #008080; text-decoration-color: #008080; font-weight: bold\">9</span> Best <span style=\"color: #008080; text-decoration-color: #008080; font-weight: bold\">1.5</span> Ton Split AC in India <span style=\"font-weight: bold\">(</span><span style=\"color: #008080; text-decoration-color: #008080; font-weight: bold\">2025</span><span style=\"font-weight: bold\">)</span> with Low Power \n",
       "Consumption<span style=\"font-weight: bold\">](</span><span style=\"color: #0000ff; text-decoration-color: #0000ff; text-decoration: underline\">https://www.consumeradvise.in/best-1-5-ton-split-ac-india/)</span>\n",
       "India's Best energy-efficient <span style=\"color: #008080; text-decoration-color: #008080; font-weight: bold\">1.5</span> ton split AC: Conclusion. All of the <span style=\"color: #008080; text-decoration-color: #008080; font-weight: bold\">1.5</span> ton split air conditioners come in <span style=\"color: #008080; text-decoration-color: #008080; font-weight: bold\">3</span>-<span style=\"color: #008080; text-decoration-color: #008080; font-weight: bold\">5</span> \n",
       "star BEE energy rating. The higher is the rating, the more is the energy efficiency, cost, and cooling experience. \n",
       "As the best <span style=\"color: #008080; text-decoration-color: #008080; font-weight: bold\">1.5</span> ton split ACs are ideal for rooms up to <span style=\"color: #008080; text-decoration-color: #008080; font-weight: bold\">250</span> sq. ft., they fit most Indian homes.\n",
       "\n",
       "|<span style=\"color: #008080; text-decoration-color: #008080; font-weight: bold\">1.5</span> Ton AC Price List in India <span style=\"font-weight: bold\">(</span>Mar <span style=\"color: #008080; text-decoration-color: #008080; font-weight: bold\">2025</span><span style=\"font-weight: bold\">)</span> - \n",
       "Smartprix<span style=\"font-weight: bold\">](</span><span style=\"color: #0000ff; text-decoration-color: #0000ff; text-decoration: underline\">https://www.smartprix.com/air_conditioners/best-1-5-ton-ac-price-list)</span>\n",
       "<span style=\"color: #008080; text-decoration-color: #008080; font-weight: bold\">1.5</span> Ton <span style=\"color: #008080; text-decoration-color: #008080; font-weight: bold\">5</span> Star ACs: Best Split Air Conditioners in India. Here's a list of the <span style=\"color: #008080; text-decoration-color: #008080; font-weight: bold\">10</span> best <span style=\"color: #008080; text-decoration-color: #008080; font-weight: bold\">1.5</span>-ton split ACs in India \n",
       "with a <span style=\"color: #008080; text-decoration-color: #008080; font-weight: bold\">5</span>-star energy efficiency rating. We've curated the list based on the product's cooling capacity <span style=\"font-weight: bold\">(</span>W<span style=\"font-weight: bold\">)</span>, ISEER \n",
       "rating, and reviews on popular e-comme…\n",
       "\n",
       "|Top <span style=\"color: #008080; text-decoration-color: #008080; font-weight: bold\">10</span> Best <span style=\"color: #008080; text-decoration-color: #008080; font-weight: bold\">1.5</span> Ton Air Conditioners in India <span style=\"color: #008080; text-decoration-color: #008080; font-weight: bold\">2024</span> - Buying \n",
       "Guide<span style=\"font-weight: bold\">](</span><span style=\"color: #0000ff; text-decoration-color: #0000ff; text-decoration: underline\">https://www.oneindia.com/buying-advice/appliances/top-10-best-1-5-ton-air-conditioners-in-india-buying-guide</span>\n",
       "<span style=\"color: #0000ff; text-decoration-color: #0000ff; text-decoration: underline\">-3746007.html)</span>\n",
       "<span style=\"color: #008080; text-decoration-color: #008080; font-weight: bold\">4</span>. Best Energy Efficient: The Blue Star <span style=\"color: #008080; text-decoration-color: #008080; font-weight: bold\">1.5</span> Ton <span style=\"color: #008080; text-decoration-color: #008080; font-weight: bold\">4</span> Star Inverter Split AC. It is the most energy-efficient option \n",
       "with a <span style=\"color: #008080; text-decoration-color: #008080; font-weight: bold\">5</span>-in-<span style=\"color: #008080; text-decoration-color: #008080; font-weight: bold\">1</span> convertible turbo cooling feature and stabiliser-free operation <span style=\"color: #808000; text-decoration-color: #808000\">...</span>\n",
       "\n",
       "|Best <span style=\"color: #008080; text-decoration-color: #008080; font-weight: bold\">1.5</span> ton AC in India: Choose from top <span style=\"color: #008080; text-decoration-color: #008080; font-weight: bold\">10</span> options for <span style=\"color: #808000; text-decoration-color: #808000\">...</span> - \n",
       "Mint<span style=\"font-weight: bold\">](</span><span style=\"color: #0000ff; text-decoration-color: #0000ff; text-decoration: underline\">https://www.livemint.com/technology/gadgets/best-1-5-ton-ac-in-india-10-top-rated-air-conditioners-you-could-</span>\n",
       "<span style=\"color: #0000ff; text-decoration-color: #0000ff; text-decoration: underline\">choose-from-11707281208158.html)</span>\n",
       "Cruise <span style=\"color: #008080; text-decoration-color: #008080; font-weight: bold\">1.5</span> Ton <span style=\"color: #008080; text-decoration-color: #008080; font-weight: bold\">3</span> Star Inverter Split AC with <span style=\"color: #008080; text-decoration-color: #008080; font-weight: bold\">7</span>-Stage Air Filtration <span style=\"font-weight: bold\">(</span><span style=\"color: #008080; text-decoration-color: #008080; font-weight: bold\">100</span>% Copper, Convertible <span style=\"color: #008080; text-decoration-color: #008080; font-weight: bold\">4</span>-in-<span style=\"color: #008080; text-decoration-color: #008080; font-weight: bold\">1</span>, PM <span style=\"color: #008080; text-decoration-color: #008080; font-weight: bold\">2.5</span> \n",
       "Filter, <span style=\"color: #008080; text-decoration-color: #008080; font-weight: bold\">2024</span> Model, CWCVBK-VQ1W173, White<span style=\"font-weight: bold\">)</span> View Details ₹<span style=\"color: #008080; text-decoration-color: #008080; font-weight: bold\">29</span>,<span style=\"color: #008080; text-decoration-color: #008080; font-weight: bold\">990</span> Get This\n",
       "\n",
       "|Best <span style=\"color: #008080; text-decoration-color: #008080; font-weight: bold\">1.5</span> ton split ACs in India: Top <span style=\"color: #008080; text-decoration-color: #008080; font-weight: bold\">8</span> picks to deal with Indian summer \n",
       "<span style=\"color: #808000; text-decoration-color: #808000\">...</span><span style=\"font-weight: bold\">](</span><span style=\"color: #0000ff; text-decoration-color: #0000ff; text-decoration: underline\">https://www.hindustantimes.com/technology/best-1-5-ton-split-acs-in-india-8-top-rated-brands-that-operate-quie</span>\n",
       "<span style=\"color: #0000ff; text-decoration-color: #0000ff; text-decoration: underline\">tly-and-are-reliable-too-101712550485428.html)</span>\n",
       "LG <span style=\"color: #008080; text-decoration-color: #008080; font-weight: bold\">1.5</span> Ton <span style=\"color: #008080; text-decoration-color: #008080; font-weight: bold\">5</span> Star DUAL Inverter Split AC <span style=\"font-weight: bold\">(</span>Copper, AI Convertible <span style=\"color: #008080; text-decoration-color: #008080; font-weight: bold\">6</span>-in-<span style=\"color: #008080; text-decoration-color: #008080; font-weight: bold\">1</span> Cooling, <span style=\"color: #008080; text-decoration-color: #008080; font-weight: bold\">4</span> Way Air Swing, HD Filter with \n",
       "Anti-Virus Protection, <span style=\"color: #008080; text-decoration-color: #008080; font-weight: bold\">2024</span> Model, TS-Q19YNZE1, White<span style=\"font-weight: bold\">)</span> View Details GET THIS\n",
       "\n",
       "|<span style=\"color: #008080; text-decoration-color: #008080; font-weight: bold\">7</span> Best <span style=\"color: #008080; text-decoration-color: #008080; font-weight: bold\">1.5</span> Ton Inverter Split AC to buy in India - \n",
       "BestCheck<span style=\"font-weight: bold\">](</span><span style=\"color: #0000ff; text-decoration-color: #0000ff; text-decoration: underline\">https://www.bestcheck.in/home-living/electric-appliances/best-1-5-ton-split-ac/)</span>\n",
       "The LG <span style=\"color: #008080; text-decoration-color: #008080; font-weight: bold\">1.5</span> Ton <span style=\"color: #008080; text-decoration-color: #008080; font-weight: bold\">5</span> Star AI DUAL Inverter Split AC is the best <span style=\"color: #008080; text-decoration-color: #008080; font-weight: bold\">5</span>-star ac <span style=\"color: #008080; text-decoration-color: #008080; font-weight: bold\">1.5</span> ton in India because when we tested it, \n",
       "it provided a room of <span style=\"color: #008080; text-decoration-color: #008080; font-weight: bold\">170</span> sq. ft. with fresh and cool air in just <span style=\"color: #008080; text-decoration-color: #008080; font-weight: bold\">5</span>-<span style=\"color: #008080; text-decoration-color: #008080; font-weight: bold\">7</span> minutes. Such results impressed us a lot, and\n",
       "it automatically made it to our best pick.\n",
       "\n",
       "|<span style=\"color: #008080; text-decoration-color: #008080; font-weight: bold\">15</span> Best <span style=\"color: #008080; text-decoration-color: #008080; font-weight: bold\">1.5</span> Ton ACs in India |August, <span style=\"color: #008080; text-decoration-color: #008080; font-weight: bold\">2024</span><span style=\"font-weight: bold\">]</span> - HappyCredit<span style=\"font-weight: bold\">](</span><span style=\"color: #0000ff; text-decoration-color: #0000ff; text-decoration: underline\">https://happycredit.in/blog/best-1-5-ton-ac-in-india/)</span>\n",
       "Review of best <span style=\"color: #008080; text-decoration-color: #008080; font-weight: bold\">1.5</span> ton AC in India for <span style=\"color: #008080; text-decoration-color: #008080; font-weight: bold\">2024</span> with detailed comparison of premium split AC models from Voltas, LG, \n",
       "Panasonic, Lloyd etc. <span style=\"color: #808000; text-decoration-color: #808000\">...</span> The market for air conditioners in India is expanding rapidly due to rising incomes, \n",
       "extreme weather conditions, and more time spent indoors. When getting a new AC, one of the most important \n",
       "considerations <span style=\"color: #808000; text-decoration-color: #808000\">...</span>\n",
       "\n",
       "|<span style=\"color: #008080; text-decoration-color: #008080; font-weight: bold\">10</span> Best <span style=\"color: #008080; text-decoration-color: #008080; font-weight: bold\">1.5</span>-Ton <span style=\"color: #008080; text-decoration-color: #008080; font-weight: bold\">5</span>-Star AC in India <span style=\"color: #008080; text-decoration-color: #008080; font-weight: bold\">2024</span> - Most Energy \n",
       "Efficient<span style=\"font-weight: bold\">](</span><span style=\"color: #0000ff; text-decoration-color: #0000ff; text-decoration: underline\">https://www.newindianexpress.com/expressdeals/appliances/best-15-ton-5-star-ac)</span>\n",
       "Best Budget - Godrej <span style=\"color: #008080; text-decoration-color: #008080; font-weight: bold\">1.5</span> Ton <span style=\"color: #008080; text-decoration-color: #008080; font-weight: bold\">5</span> Star, <span style=\"color: #008080; text-decoration-color: #008080; font-weight: bold\">5</span>-In-<span style=\"color: #008080; text-decoration-color: #008080; font-weight: bold\">1</span> Convertible, Inverter Split AC, 18IINV5R32 WWA This <span style=\"color: #008080; text-decoration-color: #008080; font-weight: bold\">1.5</span>-ton <span style=\"color: #008080; text-decoration-color: #008080; font-weight: bold\">5</span>-star \n",
       "Godrej AC is the best budget choice on our list due to its affordable price of INR <span style=\"color: #808000; text-decoration-color: #808000\">...</span>\n",
       "</pre>\n"
      ],
      "text/plain": [
       "Observations: ## Search Results\n",
       "\n",
       "|\u001b[1;36m10\u001b[0m Best \u001b[1;36m1.5\u001b[0m Ton AC in India \u001b[1;36m2024\u001b[0m - Buyers Guide - The New Indian \n",
       "Express\u001b[1m]\u001b[0m\u001b[1m(\u001b[0m\u001b[4;94mhttps://www.newindianexpress.com/expressdeals/appliances/best-15-ton-ac\u001b[0m\u001b[4;94m)\u001b[0m\n",
       "Yes, some of these air conditioners may be controllable using a mobile app, particularly those with Wi-Fi \n",
       "connectivity or smart features like the Panasonic \u001b[1;36m1.5\u001b[0m Ton \u001b[1;36m5\u001b[0m Star Wi-Fi \u001b[1;36m7\u001b[0m-in-\u001b[1;36m1\u001b[0m Convertible \u001b[33m...\u001b[0m\n",
       "\n",
       "|\u001b[1;36m1.5\u001b[0m Ton \u001b[1;36m5\u001b[0m Star ACs: Best Split Air Conditioners in \n",
       "India\u001b[1m]\u001b[0m\u001b[1m(\u001b[0m\u001b[4;94mhttps://www.smartprix.com/bytes/best-1-5-ton-5-star-split-air-conditioners-to-purchase-in-india/\u001b[0m\u001b[4;94m)\u001b[0m\n",
       "O-General is generally considered among the best air conditioner companies selling in India. With a copper \n",
       "condenser and evaporator, the \u001b[1;36m1.5\u001b[0m Ton \u001b[1;36m3\u001b[0m Star Split Inverter AC supports ambient temperatures from \u001b[1;36m18\u001b[0m°C to \u001b[1;36m55\u001b[0m°C and \n",
       "provides precise temperature control of up to \u001b[1;36m0.5\u001b[0m°C. It consumes up to \u001b[1;36m1\u001b[0m,880W of power at full load.\n",
       "\n",
       "|\u001b[1;36m9\u001b[0m Best \u001b[1;36m1.5\u001b[0m Ton Split AC in India \u001b[1m(\u001b[0m\u001b[1;36m2025\u001b[0m\u001b[1m)\u001b[0m with Low Power \n",
       "Consumption\u001b[1m]\u001b[0m\u001b[1m(\u001b[0m\u001b[4;94mhttps://www.consumeradvise.in/best-1-5-ton-split-ac-india/\u001b[0m\u001b[4;94m)\u001b[0m\n",
       "India's Best energy-efficient \u001b[1;36m1.5\u001b[0m ton split AC: Conclusion. All of the \u001b[1;36m1.5\u001b[0m ton split air conditioners come in \u001b[1;36m3\u001b[0m-\u001b[1;36m5\u001b[0m \n",
       "star BEE energy rating. The higher is the rating, the more is the energy efficiency, cost, and cooling experience. \n",
       "As the best \u001b[1;36m1.5\u001b[0m ton split ACs are ideal for rooms up to \u001b[1;36m250\u001b[0m sq. ft., they fit most Indian homes.\n",
       "\n",
       "|\u001b[1;36m1.5\u001b[0m Ton AC Price List in India \u001b[1m(\u001b[0mMar \u001b[1;36m2025\u001b[0m\u001b[1m)\u001b[0m - \n",
       "Smartprix\u001b[1m]\u001b[0m\u001b[1m(\u001b[0m\u001b[4;94mhttps://www.smartprix.com/air_conditioners/best-1-5-ton-ac-price-list\u001b[0m\u001b[4;94m)\u001b[0m\n",
       "\u001b[1;36m1.5\u001b[0m Ton \u001b[1;36m5\u001b[0m Star ACs: Best Split Air Conditioners in India. Here's a list of the \u001b[1;36m10\u001b[0m best \u001b[1;36m1.5\u001b[0m-ton split ACs in India \n",
       "with a \u001b[1;36m5\u001b[0m-star energy efficiency rating. We've curated the list based on the product's cooling capacity \u001b[1m(\u001b[0mW\u001b[1m)\u001b[0m, ISEER \n",
       "rating, and reviews on popular e-comme…\n",
       "\n",
       "|Top \u001b[1;36m10\u001b[0m Best \u001b[1;36m1.5\u001b[0m Ton Air Conditioners in India \u001b[1;36m2024\u001b[0m - Buying \n",
       "Guide\u001b[1m]\u001b[0m\u001b[1m(\u001b[0m\u001b[4;94mhttps://www.oneindia.com/buying-advice/appliances/top-10-best-1-5-ton-air-conditioners-in-india-buying-guide\u001b[0m\n",
       "\u001b[4;94m-3746007.html\u001b[0m\u001b[4;94m)\u001b[0m\n",
       "\u001b[1;36m4\u001b[0m. Best Energy Efficient: The Blue Star \u001b[1;36m1.5\u001b[0m Ton \u001b[1;36m4\u001b[0m Star Inverter Split AC. It is the most energy-efficient option \n",
       "with a \u001b[1;36m5\u001b[0m-in-\u001b[1;36m1\u001b[0m convertible turbo cooling feature and stabiliser-free operation \u001b[33m...\u001b[0m\n",
       "\n",
       "|Best \u001b[1;36m1.5\u001b[0m ton AC in India: Choose from top \u001b[1;36m10\u001b[0m options for \u001b[33m...\u001b[0m - \n",
       "Mint\u001b[1m]\u001b[0m\u001b[1m(\u001b[0m\u001b[4;94mhttps://www.livemint.com/technology/gadgets/best-1-5-ton-ac-in-india-10-top-rated-air-conditioners-you-could-\u001b[0m\n",
       "\u001b[4;94mchoose-from-11707281208158.html\u001b[0m\u001b[4;94m)\u001b[0m\n",
       "Cruise \u001b[1;36m1.5\u001b[0m Ton \u001b[1;36m3\u001b[0m Star Inverter Split AC with \u001b[1;36m7\u001b[0m-Stage Air Filtration \u001b[1m(\u001b[0m\u001b[1;36m100\u001b[0m% Copper, Convertible \u001b[1;36m4\u001b[0m-in-\u001b[1;36m1\u001b[0m, PM \u001b[1;36m2.5\u001b[0m \n",
       "Filter, \u001b[1;36m2024\u001b[0m Model, CWCVBK-VQ1W173, White\u001b[1m)\u001b[0m View Details ₹\u001b[1;36m29\u001b[0m,\u001b[1;36m990\u001b[0m Get This\n",
       "\n",
       "|Best \u001b[1;36m1.5\u001b[0m ton split ACs in India: Top \u001b[1;36m8\u001b[0m picks to deal with Indian summer \n",
       "\u001b[33m...\u001b[0m\u001b[1m]\u001b[0m\u001b[1m(\u001b[0m\u001b[4;94mhttps://www.hindustantimes.com/technology/best-1-5-ton-split-acs-in-india-8-top-rated-brands-that-operate-quie\u001b[0m\n",
       "\u001b[4;94mtly-and-are-reliable-too-101712550485428.html\u001b[0m\u001b[4;94m)\u001b[0m\n",
       "LG \u001b[1;36m1.5\u001b[0m Ton \u001b[1;36m5\u001b[0m Star DUAL Inverter Split AC \u001b[1m(\u001b[0mCopper, AI Convertible \u001b[1;36m6\u001b[0m-in-\u001b[1;36m1\u001b[0m Cooling, \u001b[1;36m4\u001b[0m Way Air Swing, HD Filter with \n",
       "Anti-Virus Protection, \u001b[1;36m2024\u001b[0m Model, TS-Q19YNZE1, White\u001b[1m)\u001b[0m View Details GET THIS\n",
       "\n",
       "|\u001b[1;36m7\u001b[0m Best \u001b[1;36m1.5\u001b[0m Ton Inverter Split AC to buy in India - \n",
       "BestCheck\u001b[1m]\u001b[0m\u001b[1m(\u001b[0m\u001b[4;94mhttps://www.bestcheck.in/home-living/electric-appliances/best-1-5-ton-split-ac/\u001b[0m\u001b[4;94m)\u001b[0m\n",
       "The LG \u001b[1;36m1.5\u001b[0m Ton \u001b[1;36m5\u001b[0m Star AI DUAL Inverter Split AC is the best \u001b[1;36m5\u001b[0m-star ac \u001b[1;36m1.5\u001b[0m ton in India because when we tested it, \n",
       "it provided a room of \u001b[1;36m170\u001b[0m sq. ft. with fresh and cool air in just \u001b[1;36m5\u001b[0m-\u001b[1;36m7\u001b[0m minutes. Such results impressed us a lot, and\n",
       "it automatically made it to our best pick.\n",
       "\n",
       "|\u001b[1;36m15\u001b[0m Best \u001b[1;36m1.5\u001b[0m Ton ACs in India |August, \u001b[1;36m2024\u001b[0m\u001b[1m]\u001b[0m - HappyCredit\u001b[1m]\u001b[0m\u001b[1m(\u001b[0m\u001b[4;94mhttps://happycredit.in/blog/best-1-5-ton-ac-in-india/\u001b[0m\u001b[4;94m)\u001b[0m\n",
       "Review of best \u001b[1;36m1.5\u001b[0m ton AC in India for \u001b[1;36m2024\u001b[0m with detailed comparison of premium split AC models from Voltas, LG, \n",
       "Panasonic, Lloyd etc. \u001b[33m...\u001b[0m The market for air conditioners in India is expanding rapidly due to rising incomes, \n",
       "extreme weather conditions, and more time spent indoors. When getting a new AC, one of the most important \n",
       "considerations \u001b[33m...\u001b[0m\n",
       "\n",
       "|\u001b[1;36m10\u001b[0m Best \u001b[1;36m1.5\u001b[0m-Ton \u001b[1;36m5\u001b[0m-Star AC in India \u001b[1;36m2024\u001b[0m - Most Energy \n",
       "Efficient\u001b[1m]\u001b[0m\u001b[1m(\u001b[0m\u001b[4;94mhttps://www.newindianexpress.com/expressdeals/appliances/best-15-ton-5-star-ac\u001b[0m\u001b[4;94m)\u001b[0m\n",
       "Best Budget - Godrej \u001b[1;36m1.5\u001b[0m Ton \u001b[1;36m5\u001b[0m Star, \u001b[1;36m5\u001b[0m-In-\u001b[1;36m1\u001b[0m Convertible, Inverter Split AC, 18IINV5R32 WWA This \u001b[1;36m1.5\u001b[0m-ton \u001b[1;36m5\u001b[0m-star \n",
       "Godrej AC is the best budget choice on our list due to its affordable price of INR \u001b[33m...\u001b[0m\n"
      ]
     },
     "metadata": {},
     "output_type": "display_data"
    },
    {
     "data": {
      "text/html": [
       "<pre style=\"white-space:pre;overflow-x:auto;line-height:normal;font-family:Menlo,'DejaVu Sans Mono',consolas,'Courier New',monospace\"><span style=\"color: #7f7f7f; text-decoration-color: #7f7f7f\">[Step 1: Duration 3.74 seconds| Input tokens: 1,173 | Output tokens: 28]</span>\n",
       "</pre>\n"
      ],
      "text/plain": [
       "\u001b[2m[Step 1: Duration 3.74 seconds| Input tokens: 1,173 | Output tokens: 28]\u001b[0m\n"
      ]
     },
     "metadata": {},
     "output_type": "display_data"
    },
    {
     "data": {
      "text/html": [
       "<pre style=\"white-space:pre;overflow-x:auto;line-height:normal;font-family:Menlo,'DejaVu Sans Mono',consolas,'Courier New',monospace\"><span style=\"color: #d4b702; text-decoration-color: #d4b702\">━━━━━━━━━━━━━━━━━━━━━━━━━━━━━━━━━━━━━━━━━━━━━━━━━━━━━ </span><span style=\"font-weight: bold\">Step </span><span style=\"color: #008080; text-decoration-color: #008080; font-weight: bold\">2</span><span style=\"color: #d4b702; text-decoration-color: #d4b702\"> ━━━━━━━━━━━━━━━━━━━━━━━━━━━━━━━━━━━━━━━━━━━━━━━━━━━━━━</span>\n",
       "</pre>\n"
      ],
      "text/plain": [
       "\u001b[38;2;212;183;2m━━━━━━━━━━━━━━━━━━━━━━━━━━━━━━━━━━━━━━━━━━━━━━━━━━━━━ \u001b[0m\u001b[1mStep \u001b[0m\u001b[1;36m2\u001b[0m\u001b[38;2;212;183;2m ━━━━━━━━━━━━━━━━━━━━━━━━━━━━━━━━━━━━━━━━━━━━━━━━━━━━━━\u001b[0m\n"
      ]
     },
     "metadata": {},
     "output_type": "display_data"
    },
    {
     "data": {
      "text/html": [
       "<pre style=\"white-space:pre;overflow-x:auto;line-height:normal;font-family:Menlo,'DejaVu Sans Mono',consolas,'Courier New',monospace\">╭─────────────────────────────────────────────────────────────────────────────────────────────────────────────────╮\n",
       "│ Calling tool: 'final_answer' with arguments: {'answer': 'Based on the search results, the LG 1.5 Ton 5 Star AI  │\n",
       "│ DUAL Inverter Split AC is commonly rated as one of the best 1. 5 ton air conditioners in the Indian market due  │\n",
       "│ to its efficiency, quick cooling, and advanced features like AI Convertible and 6-in-1 Cooling technology.'}    │\n",
       "╰─────────────────────────────────────────────────────────────────────────────────────────────────────────────────╯\n",
       "</pre>\n"
      ],
      "text/plain": [
       "╭─────────────────────────────────────────────────────────────────────────────────────────────────────────────────╮\n",
       "│ Calling tool: 'final_answer' with arguments: {'answer': 'Based on the search results, the LG 1.5 Ton 5 Star AI  │\n",
       "│ DUAL Inverter Split AC is commonly rated as one of the best 1. 5 ton air conditioners in the Indian market due  │\n",
       "│ to its efficiency, quick cooling, and advanced features like AI Convertible and 6-in-1 Cooling technology.'}    │\n",
       "╰─────────────────────────────────────────────────────────────────────────────────────────────────────────────────╯\n"
      ]
     },
     "metadata": {},
     "output_type": "display_data"
    },
    {
     "data": {
      "text/html": [
       "<pre style=\"white-space:pre;overflow-x:auto;line-height:normal;font-family:Menlo,'DejaVu Sans Mono',consolas,'Courier New',monospace\"><span style=\"color: #d4b702; text-decoration-color: #d4b702; font-weight: bold\">Final answer: Based on the search results, the LG 1.5 Ton 5 Star AI DUAL Inverter Split AC is commonly rated as one</span>\n",
       "<span style=\"color: #d4b702; text-decoration-color: #d4b702; font-weight: bold\">of the best 1. 5 ton air conditioners in the Indian market due to its efficiency, quick cooling, and advanced </span>\n",
       "<span style=\"color: #d4b702; text-decoration-color: #d4b702; font-weight: bold\">features like AI Convertible and 6-in-1 Cooling technology.</span>\n",
       "</pre>\n"
      ],
      "text/plain": [
       "\u001b[1;38;2;212;183;2mFinal answer: Based on the search results, the LG 1.5 Ton 5 Star AI DUAL Inverter Split AC is commonly rated as one\u001b[0m\n",
       "\u001b[1;38;2;212;183;2mof the best 1. 5 ton air conditioners in the Indian market due to its efficiency, quick cooling, and advanced \u001b[0m\n",
       "\u001b[1;38;2;212;183;2mfeatures like AI Convertible and 6-in-1 Cooling technology.\u001b[0m\n"
      ]
     },
     "metadata": {},
     "output_type": "display_data"
    },
    {
     "data": {
      "text/html": [
       "<pre style=\"white-space:pre;overflow-x:auto;line-height:normal;font-family:Menlo,'DejaVu Sans Mono',consolas,'Courier New',monospace\"><span style=\"color: #7f7f7f; text-decoration-color: #7f7f7f\">[Step 2: Duration 7.62 seconds| Input tokens: 3,673 | Output tokens: 115]</span>\n",
       "</pre>\n"
      ],
      "text/plain": [
       "\u001b[2m[Step 2: Duration 7.62 seconds| Input tokens: 3,673 | Output tokens: 115]\u001b[0m\n"
      ]
     },
     "metadata": {},
     "output_type": "display_data"
    },
    {
     "data": {
      "text/plain": [
       "'Based on the search results, the LG 1.5 Ton 5 Star AI DUAL Inverter Split AC is commonly rated as one of the best 1. 5 ton air conditioners in the Indian market due to its efficiency, quick cooling, and advanced features like AI Convertible and 6-in-1 Cooling technology.'"
      ]
     },
     "execution_count": 6,
     "metadata": {},
     "output_type": "execute_result"
    }
   ],
   "source": [
    "tool_Agent.run(\"which is best 1.5 ton air conditioner in indian market\")"
   ]
  },
  {
   "cell_type": "code",
   "execution_count": null,
   "metadata": {},
   "outputs": [],
   "source": []
  }
 ],
 "metadata": {
  "kernelspec": {
   "display_name": "Python 3",
   "language": "python",
   "name": "python3"
  },
  "language_info": {
   "codemirror_mode": {
    "name": "ipython",
    "version": 3
   },
   "file_extension": ".py",
   "mimetype": "text/x-python",
   "name": "python",
   "nbconvert_exporter": "python",
   "pygments_lexer": "ipython3",
   "version": "3.10.16"
  }
 },
 "nbformat": 4,
 "nbformat_minor": 2
}
