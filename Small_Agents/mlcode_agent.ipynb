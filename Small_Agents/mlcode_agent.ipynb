{
 "cells": [
  {
   "cell_type": "code",
   "execution_count": 1,
   "metadata": {},
   "outputs": [
    {
     "name": "stderr",
     "output_type": "stream",
     "text": [
      "c:\\Anaconda\\envs\\jishu_env\\lib\\site-packages\\tqdm\\auto.py:21: TqdmWarning: IProgress not found. Please update jupyter and ipywidgets. See https://ipywidgets.readthedocs.io/en/stable/user_install.html\n",
      "  from .autonotebook import tqdm as notebook_tqdm\n"
     ]
    },
    {
     "data": {
      "text/plain": [
       "True"
      ]
     },
     "execution_count": 1,
     "metadata": {},
     "output_type": "execute_result"
    }
   ],
   "source": [
    "import os\n",
    "import litellm\n",
    "import gradio as gr\n",
    "from smolagents import CodeAgent, DuckDuckGoSearchTool, LiteLLMModel\n",
    "import google.generativeai as genai\n",
    "from dotenv import load_dotenv\n",
    "load_dotenv()"
   ]
  },
  {
   "cell_type": "code",
   "execution_count": 4,
   "metadata": {},
   "outputs": [],
   "source": [
    "litellm._turn_on_debug()\n",
    "os.environ['GOOGLE_API_KEY'] = os.getenv('GOOGLE_API_KEY')\n",
    "genai.configure(api_key=os.getenv('GOOGLE_API_KEY'))\n",
    "model = LiteLLMModel(\n",
    "    model_id=\"gemini/gemini-1.5-flash\",api_key=os.getenv('GOOGLE_API_KEY')\n",
    ")\n",
    "\n",
    "ml_code_agent = CodeAgent(\n",
    "    tools=[DuckDuckGoSearchTool()],\n",
    "    model=model,\n",
    "    additional_authorized_imports=['pandas','numpy','sklearn','json']\n",
    ")"
   ]
  },
  {
   "cell_type": "code",
   "execution_count": 5,
   "metadata": {},
   "outputs": [],
   "source": [
    "def generate_ml_model(prompt):\n",
    "    full_prompt = \"\"\" \n",
    "        You are an AI assistant helping with machine learning code.\n",
    "        Complete ALL 7 steps in a structured manner.\n",
    "        \n",
    "    \n",
    "    1. **Load the Diabetes dataset** using sklearn.\n",
    "    2. **Split the data** (75% train / 25% test).\n",
    "    3. **Train a linear regression model**.\n",
    "    4. **Find the best 3-feature combination** (lowest RMSE).\n",
    "    5. **Apply feature engineering** if needed.\n",
    "    6. **List the top 5 models based on RMSE**.\n",
    "    7. **Output the results in a structured table**.\n",
    "\n",
    "    Ensure that you return:\n",
    "    - The Python code for each step.\n",
    "    - The RMSE values of the models.\n",
    "    - The final selected feature set.\n",
    "    \"\"\"\n",
    "\n",
    "    try:\n",
    "        resp = ml_code_agent.run(full_prompt)\n",
    "        return resp    \n",
    "    except Exception as e:\n",
    "        return f\"error : {str(e)}\""
   ]
  },
  {
   "cell_type": "code",
   "execution_count": 7,
   "metadata": {},
   "outputs": [],
   "source": [
    "# Gradio UI for User Interaction\n",
    "iface = gr.Interface(\n",
    "    fn=generate_ml_model,\n",
    "    inputs=\"text\",\n",
    "    outputs=\"text\",\n",
    "    title=\"ML Code Generator (Gemini Model)\",\n",
    "    description=\"Enter a Machine Learning coding task, and the AI will generate Python code using Gemini 1.5 Flash.\"\n",
    "\n",
    ")"
   ]
  },
  {
   "cell_type": "code",
   "execution_count": null,
   "metadata": {},
   "outputs": [],
   "source": [
    "# Launch Gradio App\n",
    "iface.launch()"
   ]
  },
  {
   "cell_type": "code",
   "execution_count": null,
   "metadata": {},
   "outputs": [],
   "source": []
  }
 ],
 "metadata": {
  "kernelspec": {
   "display_name": "Python 3",
   "language": "python",
   "name": "python3"
  },
  "language_info": {
   "codemirror_mode": {
    "name": "ipython",
    "version": 3
   },
   "file_extension": ".py",
   "mimetype": "text/x-python",
   "name": "python",
   "nbconvert_exporter": "python",
   "pygments_lexer": "ipython3",
   "version": "3.10.16"
  }
 },
 "nbformat": 4,
 "nbformat_minor": 2
}
