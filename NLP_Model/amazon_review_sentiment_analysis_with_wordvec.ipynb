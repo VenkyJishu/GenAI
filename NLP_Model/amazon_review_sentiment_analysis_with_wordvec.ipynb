{
 "cells": [
  {
   "cell_type": "code",
   "execution_count": 173,
   "metadata": {},
   "outputs": [],
   "source": [
    "import pandas as pd\n",
    "import numpy as np\n",
    "import seaborn as sns\n",
    "import matplotlib.pyplot as plt\n",
    "import os\n",
    "import openpyxl\n",
    "import nltk\n",
    "from bs4 import BeautifulSoup\n",
    "import sklearn\n",
    "\n",
    "\n",
    "import warnings\n",
    "warnings.filterwarnings('ignore')"
   ]
  },
  {
   "cell_type": "code",
   "execution_count": 174,
   "metadata": {},
   "outputs": [
    {
     "data": {
      "text/plain": [
       "['1.py', 'amazon_reviews.csv', 'IMDB_Dataset.xlsx']"
      ]
     },
     "execution_count": 174,
     "metadata": {},
     "output_type": "execute_result"
    }
   ],
   "source": [
    "import os\n",
    "os.listdir(\"../Datasets\")"
   ]
  },
  {
   "cell_type": "code",
   "execution_count": 175,
   "metadata": {},
   "outputs": [
    {
     "data": {
      "text/html": [
       "<div>\n",
       "<style scoped>\n",
       "    .dataframe tbody tr th:only-of-type {\n",
       "        vertical-align: middle;\n",
       "    }\n",
       "\n",
       "    .dataframe tbody tr th {\n",
       "        vertical-align: top;\n",
       "    }\n",
       "\n",
       "    .dataframe thead th {\n",
       "        text-align: right;\n",
       "    }\n",
       "</style>\n",
       "<table border=\"1\" class=\"dataframe\">\n",
       "  <thead>\n",
       "    <tr style=\"text-align: right;\">\n",
       "      <th></th>\n",
       "      <th>Unnamed: 0</th>\n",
       "      <th>reviewerName</th>\n",
       "      <th>overall</th>\n",
       "      <th>reviewText</th>\n",
       "      <th>reviewTime</th>\n",
       "      <th>day_diff</th>\n",
       "      <th>helpful_yes</th>\n",
       "      <th>helpful_no</th>\n",
       "      <th>total_vote</th>\n",
       "      <th>score_pos_neg_diff</th>\n",
       "      <th>score_average_rating</th>\n",
       "      <th>wilson_lower_bound</th>\n",
       "    </tr>\n",
       "  </thead>\n",
       "  <tbody>\n",
       "    <tr>\n",
       "      <th>0</th>\n",
       "      <td>0</td>\n",
       "      <td>NaN</td>\n",
       "      <td>4.0</td>\n",
       "      <td>No issues.</td>\n",
       "      <td>2014-07-23</td>\n",
       "      <td>138</td>\n",
       "      <td>0</td>\n",
       "      <td>0</td>\n",
       "      <td>0</td>\n",
       "      <td>0</td>\n",
       "      <td>0.0</td>\n",
       "      <td>0.0</td>\n",
       "    </tr>\n",
       "    <tr>\n",
       "      <th>1</th>\n",
       "      <td>1</td>\n",
       "      <td>0mie</td>\n",
       "      <td>5.0</td>\n",
       "      <td>Purchased this for my device, it worked as adv...</td>\n",
       "      <td>2013-10-25</td>\n",
       "      <td>409</td>\n",
       "      <td>0</td>\n",
       "      <td>0</td>\n",
       "      <td>0</td>\n",
       "      <td>0</td>\n",
       "      <td>0.0</td>\n",
       "      <td>0.0</td>\n",
       "    </tr>\n",
       "    <tr>\n",
       "      <th>2</th>\n",
       "      <td>2</td>\n",
       "      <td>1K3</td>\n",
       "      <td>4.0</td>\n",
       "      <td>it works as expected. I should have sprung for...</td>\n",
       "      <td>2012-12-23</td>\n",
       "      <td>715</td>\n",
       "      <td>0</td>\n",
       "      <td>0</td>\n",
       "      <td>0</td>\n",
       "      <td>0</td>\n",
       "      <td>0.0</td>\n",
       "      <td>0.0</td>\n",
       "    </tr>\n",
       "    <tr>\n",
       "      <th>3</th>\n",
       "      <td>3</td>\n",
       "      <td>1m2</td>\n",
       "      <td>5.0</td>\n",
       "      <td>This think has worked out great.Had a diff. br...</td>\n",
       "      <td>2013-11-21</td>\n",
       "      <td>382</td>\n",
       "      <td>0</td>\n",
       "      <td>0</td>\n",
       "      <td>0</td>\n",
       "      <td>0</td>\n",
       "      <td>0.0</td>\n",
       "      <td>0.0</td>\n",
       "    </tr>\n",
       "  </tbody>\n",
       "</table>\n",
       "</div>"
      ],
      "text/plain": [
       "   Unnamed: 0 reviewerName  overall  \\\n",
       "0           0          NaN      4.0   \n",
       "1           1         0mie      5.0   \n",
       "2           2          1K3      4.0   \n",
       "3           3          1m2      5.0   \n",
       "\n",
       "                                          reviewText  reviewTime  day_diff  \\\n",
       "0                                         No issues.  2014-07-23       138   \n",
       "1  Purchased this for my device, it worked as adv...  2013-10-25       409   \n",
       "2  it works as expected. I should have sprung for...  2012-12-23       715   \n",
       "3  This think has worked out great.Had a diff. br...  2013-11-21       382   \n",
       "\n",
       "   helpful_yes  helpful_no  total_vote  score_pos_neg_diff  \\\n",
       "0            0           0           0                   0   \n",
       "1            0           0           0                   0   \n",
       "2            0           0           0                   0   \n",
       "3            0           0           0                   0   \n",
       "\n",
       "   score_average_rating  wilson_lower_bound  \n",
       "0                   0.0                 0.0  \n",
       "1                   0.0                 0.0  \n",
       "2                   0.0                 0.0  \n",
       "3                   0.0                 0.0  "
      ]
     },
     "execution_count": 175,
     "metadata": {},
     "output_type": "execute_result"
    }
   ],
   "source": [
    "review_df = pd.read_csv(\"../Datasets/amazon_reviews.csv\")\n",
    "review_df.head(4)"
   ]
  },
  {
   "cell_type": "code",
   "execution_count": 176,
   "metadata": {},
   "outputs": [
    {
     "data": {
      "text/plain": [
       "(4915, 12)"
      ]
     },
     "execution_count": 176,
     "metadata": {},
     "output_type": "execute_result"
    }
   ],
   "source": [
    "review_df.shape"
   ]
  },
  {
   "cell_type": "code",
   "execution_count": 177,
   "metadata": {},
   "outputs": [
    {
     "data": {
      "text/plain": [
       "Unnamed: 0                int64\n",
       "reviewerName             object\n",
       "overall                 float64\n",
       "reviewText               object\n",
       "reviewTime               object\n",
       "day_diff                  int64\n",
       "helpful_yes               int64\n",
       "helpful_no                int64\n",
       "total_vote                int64\n",
       "score_pos_neg_diff        int64\n",
       "score_average_rating    float64\n",
       "wilson_lower_bound      float64\n",
       "dtype: object"
      ]
     },
     "execution_count": 177,
     "metadata": {},
     "output_type": "execute_result"
    }
   ],
   "source": [
    "review_df.dtypes"
   ]
  },
  {
   "cell_type": "code",
   "execution_count": 178,
   "metadata": {},
   "outputs": [
    {
     "data": {
      "text/html": [
       "<div>\n",
       "<style scoped>\n",
       "    .dataframe tbody tr th:only-of-type {\n",
       "        vertical-align: middle;\n",
       "    }\n",
       "\n",
       "    .dataframe tbody tr th {\n",
       "        vertical-align: top;\n",
       "    }\n",
       "\n",
       "    .dataframe thead th {\n",
       "        text-align: right;\n",
       "    }\n",
       "</style>\n",
       "<table border=\"1\" class=\"dataframe\">\n",
       "  <thead>\n",
       "    <tr style=\"text-align: right;\">\n",
       "      <th></th>\n",
       "      <th>Unnamed: 0</th>\n",
       "      <th>overall</th>\n",
       "      <th>day_diff</th>\n",
       "      <th>helpful_yes</th>\n",
       "      <th>helpful_no</th>\n",
       "      <th>total_vote</th>\n",
       "      <th>score_pos_neg_diff</th>\n",
       "      <th>score_average_rating</th>\n",
       "      <th>wilson_lower_bound</th>\n",
       "    </tr>\n",
       "  </thead>\n",
       "  <tbody>\n",
       "    <tr>\n",
       "      <th>count</th>\n",
       "      <td>4915.000000</td>\n",
       "      <td>4915.000000</td>\n",
       "      <td>4915.000000</td>\n",
       "      <td>4915.000000</td>\n",
       "      <td>4915.000000</td>\n",
       "      <td>4915.000000</td>\n",
       "      <td>4915.000000</td>\n",
       "      <td>4915.000000</td>\n",
       "      <td>4915.000000</td>\n",
       "    </tr>\n",
       "    <tr>\n",
       "      <th>mean</th>\n",
       "      <td>2457.000000</td>\n",
       "      <td>4.587589</td>\n",
       "      <td>437.367040</td>\n",
       "      <td>1.311089</td>\n",
       "      <td>0.210376</td>\n",
       "      <td>1.521465</td>\n",
       "      <td>1.100712</td>\n",
       "      <td>0.075468</td>\n",
       "      <td>0.020053</td>\n",
       "    </tr>\n",
       "    <tr>\n",
       "      <th>std</th>\n",
       "      <td>1418.982617</td>\n",
       "      <td>0.996845</td>\n",
       "      <td>209.439871</td>\n",
       "      <td>41.619161</td>\n",
       "      <td>4.023296</td>\n",
       "      <td>44.123095</td>\n",
       "      <td>39.367949</td>\n",
       "      <td>0.256062</td>\n",
       "      <td>0.077187</td>\n",
       "    </tr>\n",
       "    <tr>\n",
       "      <th>min</th>\n",
       "      <td>0.000000</td>\n",
       "      <td>1.000000</td>\n",
       "      <td>1.000000</td>\n",
       "      <td>0.000000</td>\n",
       "      <td>0.000000</td>\n",
       "      <td>0.000000</td>\n",
       "      <td>-130.000000</td>\n",
       "      <td>0.000000</td>\n",
       "      <td>0.000000</td>\n",
       "    </tr>\n",
       "    <tr>\n",
       "      <th>25%</th>\n",
       "      <td>1228.500000</td>\n",
       "      <td>5.000000</td>\n",
       "      <td>281.000000</td>\n",
       "      <td>0.000000</td>\n",
       "      <td>0.000000</td>\n",
       "      <td>0.000000</td>\n",
       "      <td>0.000000</td>\n",
       "      <td>0.000000</td>\n",
       "      <td>0.000000</td>\n",
       "    </tr>\n",
       "    <tr>\n",
       "      <th>50%</th>\n",
       "      <td>2457.000000</td>\n",
       "      <td>5.000000</td>\n",
       "      <td>431.000000</td>\n",
       "      <td>0.000000</td>\n",
       "      <td>0.000000</td>\n",
       "      <td>0.000000</td>\n",
       "      <td>0.000000</td>\n",
       "      <td>0.000000</td>\n",
       "      <td>0.000000</td>\n",
       "    </tr>\n",
       "    <tr>\n",
       "      <th>75%</th>\n",
       "      <td>3685.500000</td>\n",
       "      <td>5.000000</td>\n",
       "      <td>601.000000</td>\n",
       "      <td>0.000000</td>\n",
       "      <td>0.000000</td>\n",
       "      <td>0.000000</td>\n",
       "      <td>0.000000</td>\n",
       "      <td>0.000000</td>\n",
       "      <td>0.000000</td>\n",
       "    </tr>\n",
       "    <tr>\n",
       "      <th>max</th>\n",
       "      <td>4914.000000</td>\n",
       "      <td>5.000000</td>\n",
       "      <td>1064.000000</td>\n",
       "      <td>1952.000000</td>\n",
       "      <td>183.000000</td>\n",
       "      <td>2020.000000</td>\n",
       "      <td>1884.000000</td>\n",
       "      <td>1.000000</td>\n",
       "      <td>0.957544</td>\n",
       "    </tr>\n",
       "  </tbody>\n",
       "</table>\n",
       "</div>"
      ],
      "text/plain": [
       "        Unnamed: 0      overall     day_diff  helpful_yes   helpful_no  \\\n",
       "count  4915.000000  4915.000000  4915.000000  4915.000000  4915.000000   \n",
       "mean   2457.000000     4.587589   437.367040     1.311089     0.210376   \n",
       "std    1418.982617     0.996845   209.439871    41.619161     4.023296   \n",
       "min       0.000000     1.000000     1.000000     0.000000     0.000000   \n",
       "25%    1228.500000     5.000000   281.000000     0.000000     0.000000   \n",
       "50%    2457.000000     5.000000   431.000000     0.000000     0.000000   \n",
       "75%    3685.500000     5.000000   601.000000     0.000000     0.000000   \n",
       "max    4914.000000     5.000000  1064.000000  1952.000000   183.000000   \n",
       "\n",
       "        total_vote  score_pos_neg_diff  score_average_rating  \\\n",
       "count  4915.000000         4915.000000           4915.000000   \n",
       "mean      1.521465            1.100712              0.075468   \n",
       "std      44.123095           39.367949              0.256062   \n",
       "min       0.000000         -130.000000              0.000000   \n",
       "25%       0.000000            0.000000              0.000000   \n",
       "50%       0.000000            0.000000              0.000000   \n",
       "75%       0.000000            0.000000              0.000000   \n",
       "max    2020.000000         1884.000000              1.000000   \n",
       "\n",
       "       wilson_lower_bound  \n",
       "count         4915.000000  \n",
       "mean             0.020053  \n",
       "std              0.077187  \n",
       "min              0.000000  \n",
       "25%              0.000000  \n",
       "50%              0.000000  \n",
       "75%              0.000000  \n",
       "max              0.957544  "
      ]
     },
     "execution_count": 178,
     "metadata": {},
     "output_type": "execute_result"
    }
   ],
   "source": [
    "review_df.describe()\n"
   ]
  },
  {
   "cell_type": "code",
   "execution_count": 179,
   "metadata": {},
   "outputs": [
    {
     "data": {
      "text/plain": [
       "Unnamed: 0              0\n",
       "reviewerName            1\n",
       "overall                 0\n",
       "reviewText              1\n",
       "reviewTime              0\n",
       "day_diff                0\n",
       "helpful_yes             0\n",
       "helpful_no              0\n",
       "total_vote              0\n",
       "score_pos_neg_diff      0\n",
       "score_average_rating    0\n",
       "wilson_lower_bound      0\n",
       "dtype: int64"
      ]
     },
     "execution_count": 179,
     "metadata": {},
     "output_type": "execute_result"
    }
   ],
   "source": [
    "review_df.isnull().sum()"
   ]
  },
  {
   "cell_type": "markdown",
   "metadata": {},
   "source": [
    "## Step 1. Removing null values from dataframe"
   ]
  },
  {
   "cell_type": "code",
   "execution_count": 180,
   "metadata": {},
   "outputs": [
    {
     "data": {
      "text/plain": [
       "(4915, 12)"
      ]
     },
     "execution_count": 180,
     "metadata": {},
     "output_type": "execute_result"
    }
   ],
   "source": [
    "review_df.shape"
   ]
  },
  {
   "cell_type": "code",
   "execution_count": 181,
   "metadata": {},
   "outputs": [],
   "source": [
    "review_df.dropna(inplace=True)"
   ]
  },
  {
   "cell_type": "code",
   "execution_count": 182,
   "metadata": {},
   "outputs": [
    {
     "data": {
      "text/plain": [
       "(4913, 12)"
      ]
     },
     "execution_count": 182,
     "metadata": {},
     "output_type": "execute_result"
    }
   ],
   "source": [
    "review_df.shape"
   ]
  },
  {
   "cell_type": "markdown",
   "metadata": {},
   "source": [
    "## Step 2. Remove Unwanted features"
   ]
  },
  {
   "cell_type": "code",
   "execution_count": 183,
   "metadata": {},
   "outputs": [
    {
     "data": {
      "text/html": [
       "<div>\n",
       "<style scoped>\n",
       "    .dataframe tbody tr th:only-of-type {\n",
       "        vertical-align: middle;\n",
       "    }\n",
       "\n",
       "    .dataframe tbody tr th {\n",
       "        vertical-align: top;\n",
       "    }\n",
       "\n",
       "    .dataframe thead th {\n",
       "        text-align: right;\n",
       "    }\n",
       "</style>\n",
       "<table border=\"1\" class=\"dataframe\">\n",
       "  <thead>\n",
       "    <tr style=\"text-align: right;\">\n",
       "      <th></th>\n",
       "      <th>reviewerName</th>\n",
       "      <th>overall</th>\n",
       "      <th>reviewText</th>\n",
       "      <th>reviewTime</th>\n",
       "      <th>day_diff</th>\n",
       "      <th>helpful_yes</th>\n",
       "      <th>helpful_no</th>\n",
       "      <th>total_vote</th>\n",
       "      <th>score_pos_neg_diff</th>\n",
       "      <th>score_average_rating</th>\n",
       "      <th>wilson_lower_bound</th>\n",
       "    </tr>\n",
       "  </thead>\n",
       "  <tbody>\n",
       "    <tr>\n",
       "      <th>0</th>\n",
       "      <td>Hyoun Kim \"Faluzure\"</td>\n",
       "      <td>5.0</td>\n",
       "      <td>[[ UPDATE - 6/19/2014 ]]So my lovely wife boug...</td>\n",
       "      <td>2013-01-05</td>\n",
       "      <td>702</td>\n",
       "      <td>1952</td>\n",
       "      <td>68</td>\n",
       "      <td>2020</td>\n",
       "      <td>1884</td>\n",
       "      <td>0.966337</td>\n",
       "      <td>0.957544</td>\n",
       "    </tr>\n",
       "    <tr>\n",
       "      <th>1</th>\n",
       "      <td>NLee the Engineer</td>\n",
       "      <td>5.0</td>\n",
       "      <td>I have tested dozens of SDHC and micro-SDHC ca...</td>\n",
       "      <td>2012-09-26</td>\n",
       "      <td>803</td>\n",
       "      <td>1428</td>\n",
       "      <td>77</td>\n",
       "      <td>1505</td>\n",
       "      <td>1351</td>\n",
       "      <td>0.948837</td>\n",
       "      <td>0.936519</td>\n",
       "    </tr>\n",
       "    <tr>\n",
       "      <th>2</th>\n",
       "      <td>SkincareCEO</td>\n",
       "      <td>1.0</td>\n",
       "      <td>NOTE:  please read the last update (scroll to ...</td>\n",
       "      <td>2013-05-08</td>\n",
       "      <td>579</td>\n",
       "      <td>1568</td>\n",
       "      <td>126</td>\n",
       "      <td>1694</td>\n",
       "      <td>1442</td>\n",
       "      <td>0.925620</td>\n",
       "      <td>0.912139</td>\n",
       "    </tr>\n",
       "    <tr>\n",
       "      <th>3</th>\n",
       "      <td>Amazon Customer \"Kelly\"</td>\n",
       "      <td>1.0</td>\n",
       "      <td>If your card gets hot enough to be painful, it...</td>\n",
       "      <td>2012-02-09</td>\n",
       "      <td>1033</td>\n",
       "      <td>422</td>\n",
       "      <td>73</td>\n",
       "      <td>495</td>\n",
       "      <td>349</td>\n",
       "      <td>0.852525</td>\n",
       "      <td>0.818577</td>\n",
       "    </tr>\n",
       "  </tbody>\n",
       "</table>\n",
       "</div>"
      ],
      "text/plain": [
       "              reviewerName  overall  \\\n",
       "0     Hyoun Kim \"Faluzure\"      5.0   \n",
       "1        NLee the Engineer      5.0   \n",
       "2              SkincareCEO      1.0   \n",
       "3  Amazon Customer \"Kelly\"      1.0   \n",
       "\n",
       "                                          reviewText  reviewTime  day_diff  \\\n",
       "0  [[ UPDATE - 6/19/2014 ]]So my lovely wife boug...  2013-01-05       702   \n",
       "1  I have tested dozens of SDHC and micro-SDHC ca...  2012-09-26       803   \n",
       "2  NOTE:  please read the last update (scroll to ...  2013-05-08       579   \n",
       "3  If your card gets hot enough to be painful, it...  2012-02-09      1033   \n",
       "\n",
       "   helpful_yes  helpful_no  total_vote  score_pos_neg_diff  \\\n",
       "0         1952          68        2020                1884   \n",
       "1         1428          77        1505                1351   \n",
       "2         1568         126        1694                1442   \n",
       "3          422          73         495                 349   \n",
       "\n",
       "   score_average_rating  wilson_lower_bound  \n",
       "0              0.966337            0.957544  \n",
       "1              0.948837            0.936519  \n",
       "2              0.925620            0.912139  \n",
       "3              0.852525            0.818577  "
      ]
     },
     "execution_count": 183,
     "metadata": {},
     "output_type": "execute_result"
    }
   ],
   "source": [
    "review_df.drop(columns=['Unnamed: 0'],axis=1,inplace=True)\n",
    "review_df = review_df.sort_values(ascending=False,by='wilson_lower_bound')\n",
    "review_df = review_df.reset_index(drop=True)\n",
    "review_df.head(4)"
   ]
  },
  {
   "cell_type": "code",
   "execution_count": 184,
   "metadata": {},
   "outputs": [
    {
     "data": {
      "text/plain": [
       "overall\n",
       "5.0    3921\n",
       "4.0     526\n",
       "1.0     244\n",
       "3.0     142\n",
       "2.0      80\n",
       "Name: count, dtype: int64"
      ]
     },
     "execution_count": 184,
     "metadata": {},
     "output_type": "execute_result"
    }
   ],
   "source": [
    "review_df['overall'].value_counts()"
   ]
  },
  {
   "cell_type": "code",
   "execution_count": 185,
   "metadata": {},
   "outputs": [
    {
     "data": {
      "text/html": [
       "<div>\n",
       "<style scoped>\n",
       "    .dataframe tbody tr th:only-of-type {\n",
       "        vertical-align: middle;\n",
       "    }\n",
       "\n",
       "    .dataframe tbody tr th {\n",
       "        vertical-align: top;\n",
       "    }\n",
       "\n",
       "    .dataframe thead th {\n",
       "        text-align: right;\n",
       "    }\n",
       "</style>\n",
       "<table border=\"1\" class=\"dataframe\">\n",
       "  <thead>\n",
       "    <tr style=\"text-align: right;\">\n",
       "      <th></th>\n",
       "      <th>overall</th>\n",
       "      <th>reviewText</th>\n",
       "      <th>wilson_lower_bound</th>\n",
       "    </tr>\n",
       "  </thead>\n",
       "  <tbody>\n",
       "    <tr>\n",
       "      <th>0</th>\n",
       "      <td>5.0</td>\n",
       "      <td>[[ UPDATE - 6/19/2014 ]]So my lovely wife boug...</td>\n",
       "      <td>0.957544</td>\n",
       "    </tr>\n",
       "    <tr>\n",
       "      <th>1</th>\n",
       "      <td>5.0</td>\n",
       "      <td>I have tested dozens of SDHC and micro-SDHC ca...</td>\n",
       "      <td>0.936519</td>\n",
       "    </tr>\n",
       "    <tr>\n",
       "      <th>2</th>\n",
       "      <td>1.0</td>\n",
       "      <td>NOTE:  please read the last update (scroll to ...</td>\n",
       "      <td>0.912139</td>\n",
       "    </tr>\n",
       "  </tbody>\n",
       "</table>\n",
       "</div>"
      ],
      "text/plain": [
       "   overall                                         reviewText  \\\n",
       "0      5.0  [[ UPDATE - 6/19/2014 ]]So my lovely wife boug...   \n",
       "1      5.0  I have tested dozens of SDHC and micro-SDHC ca...   \n",
       "2      1.0  NOTE:  please read the last update (scroll to ...   \n",
       "\n",
       "   wilson_lower_bound  \n",
       "0            0.957544  \n",
       "1            0.936519  \n",
       "2            0.912139  "
      ]
     },
     "execution_count": 185,
     "metadata": {},
     "output_type": "execute_result"
    }
   ],
   "source": [
    "review_df_final = review_df[['overall','reviewText','wilson_lower_bound']]\n",
    "review_df_final.head(3)"
   ]
  },
  {
   "cell_type": "code",
   "execution_count": 186,
   "metadata": {},
   "outputs": [],
   "source": [
    "# python -m spacy download en_core_web_sm\n"
   ]
  },
  {
   "cell_type": "markdown",
   "metadata": {},
   "source": [
    "# Explanation of below Pre Process Function:\n",
    "    * Stop Words: Words like \"is\", \"for\", etc., will be removed since they are in the stopword list.\n",
    "    * Punctuation: Tokens like \"#\", \"@\", \".\", \"<\", \">\" are removed since they are punctuation.\n",
    "    * Digits: Tokens like \"99\" and \"34working\" are removed because they contain numbers.\n",
    "    * Case-insensitive Uniqueness: The function ensures words like \"Bye\" and \"bye\" are considered the same and are only kept once.\n",
    "    * Lemmatization: The words are lemmatized to their base form to make sure variations like \"working\" and \"work\" are treated consistently."
   ]
  },
  {
   "cell_type": "code",
   "execution_count": 187,
   "metadata": {},
   "outputs": [],
   "source": [
    "import string\n",
    "import nltk\n",
    "import spacy\n",
    "\n",
    "\n",
    "# Load SpaCy model (use 'en_core_web_sm' for English)\n",
    "nlp = spacy.load('en_core_web_sm')\n",
    "stop_words = nltk.corpus.stopwords.words('english')\n",
    "\n",
    "def pre_process(txt):\n",
    "    tokens = nlp(txt)\n",
    "    existed_tokens =set()\n",
    "    filtered_tokens =[]\n",
    "\n",
    "    # Filter out:\n",
    "    # 1. Punctuation\n",
    "    # 2. Digits or alphanumeric tokens\n",
    "    # 3. Tokens containing non-alphabetic characters (e.g., Hello@, 34working)\n",
    "    # 4. Ensure case-insensitive uniqueness based on lemmatization\n",
    "    # 4. Stop words\n",
    "\n",
    "    for token in tokens:\n",
    "        # Lemmatize the token and convert to lowercase for uniformity\n",
    "        lemmatized_word = token.lemma_.lower()\n",
    "        if lemmatized_word not in existed_tokens and \\\n",
    "                token.text not in string.punctuation  and \\\n",
    "                not token.is_digit and \\\n",
    "                token.text.isalpha() and \\\n",
    "                token.text.lower() not in stop_words:\n",
    "            \n",
    "            filtered_tokens.append(token.text)\n",
    "            existed_tokens.add(lemmatized_word) # Track lemmatized word to ensure uniqueness\n",
    "    \n",
    "    return filtered_tokens"
   ]
  },
  {
   "cell_type": "code",
   "execution_count": 188,
   "metadata": {},
   "outputs": [
    {
     "data": {
      "text/plain": [
       "'!\"#$%&\\'()*+,-./:;<=>?@[\\\\]^_`{|}~'"
      ]
     },
     "execution_count": 188,
     "metadata": {},
     "output_type": "execute_result"
    }
   ],
   "source": [
    "string.punctuation"
   ]
  },
  {
   "cell_type": "code",
   "execution_count": 189,
   "metadata": {},
   "outputs": [
    {
     "data": {
      "text/plain": [
       "['everything',\n",
       " 'everyone',\n",
       " 'Bye',\n",
       " 'correctly',\n",
       " 'testing',\n",
       " 'hospital',\n",
       " 'patient']"
      ]
     },
     "execution_count": 189,
     "metadata": {},
     "output_type": "execute_result"
    }
   ],
   "source": [
    "pre_process(\"If # everything Hello@ everyone . Bye 99 is 34working correctly, < this testing in hospital for patient >  bye> EveryOne\")"
   ]
  },
  {
   "cell_type": "markdown",
   "metadata": {},
   "source": [
    "## Now lets apply above Pre Process function on Reviews Dataset"
   ]
  },
  {
   "cell_type": "code",
   "execution_count": 190,
   "metadata": {},
   "outputs": [
    {
     "data": {
      "text/plain": [
       "overall               float64\n",
       "reviewText             object\n",
       "wilson_lower_bound    float64\n",
       "dtype: object"
      ]
     },
     "execution_count": 190,
     "metadata": {},
     "output_type": "execute_result"
    }
   ],
   "source": [
    "review_df_final.dtypes"
   ]
  },
  {
   "cell_type": "code",
   "execution_count": 192,
   "metadata": {},
   "outputs": [
    {
     "data": {
      "text/plain": [
       "0       [UPDATE, lovely, wife, bought, Samsung, Galaxy...\n",
       "1       [tested, dozens, SDHC, micro, cards, One, dist...\n",
       "2       [NOTE, please, read, last, update, scroll, bot...\n",
       "3       [card, gets, hot, enough, painful, defective, ...\n",
       "4       [Sandisk, announcement, first, GB, micro, SD, ...\n",
       "                              ...                        \n",
       "4908    [probably, Nth, memory, card, bought, sandisk,...\n",
       "4909    [use, Samsung, Galaxy, store, photos, videos, ...\n",
       "4910    [awesome, Worked, well, Surface, tablet, later...\n",
       "4911    [amazing, amount, storage, putting, micro, chi...\n",
       "4912    [heard, bad, things, gb, Micro, SD, card, crap...\n",
       "Name: reviewText, Length: 4913, dtype: object"
      ]
     },
     "execution_count": 192,
     "metadata": {},
     "output_type": "execute_result"
    }
   ],
   "source": [
    "review_df_final['reviewText'].apply(pre_process)"
   ]
  },
  {
   "cell_type": "code",
   "execution_count": null,
   "metadata": {},
   "outputs": [],
   "source": [
    "import string\n",
    "import spacy\n",
    "from spacy.lang.en.stop_words import STOP_WORDS\n",
    "\n",
    "# Load SpaCy model (use 'en_core_web_sm' for English)\n",
    "nlp = spacy.load('en_core_web_sm')\n",
    "\n",
    "def pre_process_batch(texts):\n",
    "    # Initialize set to track unique lemmatized words (case-insensitive)\n",
    "    existed_tokens = set()\n",
    "    filtered_tokens_list = []\n",
    "    \n",
    "    for doc in nlp.pipe(texts, batch_size=1000, n_process=4):  # Use batch processing and parallelism\n",
    "        #  nlp.pipe() Avoid the overhead of repeatedly calling nlp() for each sentence or document. \n",
    "        #  This can speed up processing dramatically for large volumes of text.\n",
    "        filtered_tokens = []\n",
    "        \n",
    "        for token in doc:\n",
    "            # Lemmatize the token and convert to lowercase for uniformity\n",
    "            lemmatized_word = token.lemma_.lower()\n",
    "\n",
    "            # Filter out punctuation, digits, stop words, and ensure uniqueness based on lemmatized form\n",
    "            if lemmatized_word not in existed_tokens and \\\n",
    "               token.text not in string.punctuation and \\\n",
    "               not token.isdigit() and \\\n",
    "               token.text.isalpha() and \\\n",
    "               token.text.lower() not in STOP_WORDS:\n",
    "                filtered_tokens.append(token.text)\n",
    "                existed_tokens.add(lemmatized_word)  # Track lemmatized word to ensure uniqueness\n",
    "        \n",
    "        filtered_tokens_list.append(filtered_tokens)\n",
    "    \n",
    "    return filtered_tokens_list\n"
   ]
  }
 ],
 "metadata": {
  "kernelspec": {
   "display_name": "Python 3",
   "language": "python",
   "name": "python3"
  },
  "language_info": {
   "codemirror_mode": {
    "name": "ipython",
    "version": 3
   },
   "file_extension": ".py",
   "mimetype": "text/x-python",
   "name": "python",
   "nbconvert_exporter": "python",
   "pygments_lexer": "ipython3",
   "version": "3.12.1"
  }
 },
 "nbformat": 4,
 "nbformat_minor": 2
}
