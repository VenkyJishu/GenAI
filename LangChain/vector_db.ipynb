{
 "cells": [
  {
   "cell_type": "code",
   "execution_count": 7,
   "metadata": {},
   "outputs": [],
   "source": [
    "from langchain_community.document_loaders import PyPDFLoader\n",
    "\n",
    "loader = PyPDFLoader(r\"C:\\Users\\Venky\\Downloads\\Senior PL SQL Developer.pdf\")\n",
    "pages = loader.load_and_split()\n"
   ]
  },
  {
   "cell_type": "code",
   "execution_count": 9,
   "metadata": {},
   "outputs": [
    {
     "data": {
      "text/plain": [
       "\"Senior PL SQL Developer\\n\\uf0b7 Naganathapura Main Rd, Akshaya Layout, Doctor Layout, Naganathapura, Rayasandra, Bengaluru, Karnataka 560100, India\\n\\uf0b7 Full-time\\n\\uf0b7 Legal Entity: Bosch Automotive Electronics India Private Ltd.\\nCompany Description\\nThe Bosch Group is a leading global supplier of technology and services, in the areas of Automotive Technology, Industrial Technology, Consumer Goods,\\nEnergy and Building Technology.\\nIn India, the Group operates through nine companies with a combined strength of over 30,000 associates which includes around 14,000 research and\\ndevelopment associates.\\nBosch Automotive Electronics India Pvt. Ltd. (RBAI) is a 100% subsidiary of Robert Bosch GmbH. RBAI was established at the right time to cater to the\\ndemands of future Indian market. Established in 2009, started out with manufacturing Electronic Control Units. On an average adding one new product every\\nyear, Antenna and Immobilizer in 2011, wide range of BCM's since 2012, Electronic power steering control units from 2013, and Voltage regulator in 2014.\\nOver the last 7 years of its existence, the company has grown over 44% CAGR, which is remarkable considering it was established during the peak of\\nrecession.\\nThe product portfolio of Bosch Automotive Electronics Pvt. Ltd. is into both Automotive and Non-Automotive Business catering to local as well as global\\ndemands. The products from RBAI fulfils 94% of the local demand. Apart from this, 72% of our sales are towards exports covering most of the global market.\\nWe invite promising and dynamic professionals for a long-term and\\nrewarding career with Bosch.\\nJob Description\\nWe are a central manufacturing digitization team that specializes in providing end to end data services for Bosch mobility electronics. As we continue to\\ngrow and innovate, we are seeking a talented Senior SQL Developer with expertise in C#/.NET to join our dynamic team and serve as a Sub-lead. This is an\\nexciting opportunity to contribute to cutting-edge projects and lead a team of passionate developers.\\nPrimary responsibilities:\\n1. Database Development and Management:\\n\\uf0b7 Design, develop, and maintain complex SQL databases and data warehouses.\\n\\uf0b7 Optimize database performance and ensure high availability and reliability.\\n\\uf0b7 Implement data security measures and adhere to best practices for data integrity.\\n2. C#/.NET Development:\\n\\uf0b7 Develop software solutions using C#/.NET framework.\\n\\uf0b7 Collaborate with cross-functional teams to design and implement scalable and robust applications.\\n\\uf0b7 Ensure code quality, maintainability, and adherence to coding standards.\\n3. Team Leadership:\\n\\uf0b7 Serve as a technical leader and mentor for junior developers.\\n\\uf0b7 Lead by example, fostering a collaborative and innovative team environment.\\n\\uf0b7 Coordinate with project managers to prioritize tasks and allocate resources effectively.\\n4. Technical Strategy and Innovation:\\n\\uf0b7 Stay abreast of industry trends and emerging technologies in SQL and C#/.NET development.\\n\\uf0b7 Contribute to the development of technical strategies and roadmaps.\\n\\uf0b7 Identify opportunities for process improvement and innovation within the team.\\nQualifications\\nQualifications:\\n\\uf0b7 Bachelor’s or Master's degree in Computer Science, Engineering, or related field.\\n\\uf0b7 Proven experience as a Senior SQL Developer with expertise in C#/.NET development.\\n\\uf0b7 Strong knowledge of SQL Server and database design principles.\\n\\uf0b7 Know-how of Hadoop is added advantage\""
      ]
     },
     "execution_count": 9,
     "metadata": {},
     "output_type": "execute_result"
    }
   ],
   "source": [
    "pages[0].page_content"
   ]
  },
  {
   "cell_type": "code",
   "execution_count": 10,
   "metadata": {},
   "outputs": [
    {
     "data": {
      "text/plain": [
       "2"
      ]
     },
     "execution_count": 10,
     "metadata": {},
     "output_type": "execute_result"
    }
   ],
   "source": [
    "len(pages)"
   ]
  },
  {
   "cell_type": "code",
   "execution_count": 12,
   "metadata": {},
   "outputs": [
    {
     "data": {
      "text/plain": [
       "{'producer': '',\n",
       " 'creator': 'WPS Writer',\n",
       " 'creationdate': '2024-08-30T09:32:30+05:30',\n",
       " 'author': 'user',\n",
       " 'comments': '',\n",
       " 'company': '',\n",
       " 'keywords': '',\n",
       " 'moddate': '2024-08-30T09:32:30+05:30',\n",
       " 'sourcemodified': \"D:20240830093230+05'30'\",\n",
       " 'subject': '',\n",
       " 'title': '',\n",
       " 'trapped': '/False',\n",
       " 'source': 'C:\\\\Users\\\\Venky\\\\Downloads\\\\Senior PL SQL Developer.pdf',\n",
       " 'total_pages': 2,\n",
       " 'page': 0,\n",
       " 'page_label': '1'}"
      ]
     },
     "execution_count": 12,
     "metadata": {},
     "output_type": "execute_result"
    }
   ],
   "source": [
    "pages[0].metadata"
   ]
  },
  {
   "cell_type": "code",
   "execution_count": 10,
   "metadata": {},
   "outputs": [
    {
     "data": {
      "text/plain": [
       "[0.014134909026324749,\n",
       " -0.022324152290821075,\n",
       " -0.054603420197963715,\n",
       " -0.006284549366682768,\n",
       " -0.03392402455210686]"
      ]
     },
     "execution_count": 10,
     "metadata": {},
     "output_type": "execute_result"
    }
   ],
   "source": [
    "from langchain_google_genai import GoogleGenerativeAIEmbeddings\n",
    "from dotenv import load_dotenv\n",
    "import os\n",
    "\n",
    "load_dotenv()\n",
    "\n",
    "# Get the API Key from the .env file\n",
    "os.environ[\"GOOGLE_API_KEY\"] = os.getenv(\"GOOGLE_API_KEY\")\n",
    "\n",
    "embeddings = GoogleGenerativeAIEmbeddings(model=\"models/text-embedding-004\")\n",
    "vector = embeddings.embed_query(\"hello, world!\")\n",
    "vector[:5]"
   ]
  },
  {
   "cell_type": "code",
   "execution_count": 11,
   "metadata": {},
   "outputs": [
    {
     "data": {
      "text/plain": [
       "768"
      ]
     },
     "execution_count": 11,
     "metadata": {},
     "output_type": "execute_result"
    }
   ],
   "source": [
    "len(vector)"
   ]
  },
  {
   "cell_type": "code",
   "execution_count": 12,
   "metadata": {},
   "outputs": [],
   "source": [
    "vectors = embeddings.embed_documents(\n",
    "    [\n",
    "        \"Today is Monday\",\n",
    "        \"Today is Tuesday\",\n",
    "        \"Today is April Fools day\",\n",
    "    ]\n",
    ")"
   ]
  },
  {
   "cell_type": "code",
   "execution_count": 15,
   "metadata": {},
   "outputs": [
    {
     "data": {
      "text/plain": [
       "768"
      ]
     },
     "execution_count": 15,
     "metadata": {},
     "output_type": "execute_result"
    }
   ],
   "source": [
    "len(vectors[0])"
   ]
  },
  {
   "cell_type": "code",
   "execution_count": null,
   "metadata": {},
   "outputs": [],
   "source": []
  }
 ],
 "metadata": {
  "kernelspec": {
   "display_name": "Python 3",
   "language": "python",
   "name": "python3"
  },
  "language_info": {
   "codemirror_mode": {
    "name": "ipython",
    "version": 3
   },
   "file_extension": ".py",
   "mimetype": "text/x-python",
   "name": "python",
   "nbconvert_exporter": "python",
   "pygments_lexer": "ipython3",
   "version": "3.10.16"
  }
 },
 "nbformat": 4,
 "nbformat_minor": 2
}
