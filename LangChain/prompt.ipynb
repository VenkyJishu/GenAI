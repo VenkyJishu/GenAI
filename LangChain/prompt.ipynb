{
 "cells": [
  {
   "cell_type": "code",
   "execution_count": 2,
   "metadata": {},
   "outputs": [],
   "source": [
    "from langchain_core.prompts import ChatPromptTemplate\n",
    "chat_template = ChatPromptTemplate(\n",
    "    [\n",
    "        (\"system\",\"you are helpful {domain} expert\"),\n",
    "        (\"human\",\"Explain the given {topic} in simple terms\")\n",
    "    ]\n",
    ")\n"
   ]
  },
  {
   "cell_type": "code",
   "execution_count": 6,
   "metadata": {},
   "outputs": [],
   "source": [
    "prompt = chat_template.invoke({\"domain\":\"medical\",\"topic\":\"cancer\"})"
   ]
  },
  {
   "cell_type": "code",
   "execution_count": 7,
   "metadata": {},
   "outputs": [
    {
     "name": "stdout",
     "output_type": "stream",
     "text": [
      "messages=[SystemMessage(content='you are helpful medical expert', additional_kwargs={}, response_metadata={}), HumanMessage(content='Explain the given cancer in simple terms', additional_kwargs={}, response_metadata={})]\n"
     ]
    }
   ],
   "source": [
    "print(prompt)"
   ]
  },
  {
   "cell_type": "code",
   "execution_count": 9,
   "metadata": {},
   "outputs": [],
   "source": [
    "from langchain_groq import ChatGroq\n",
    "from langchain_core.prompts import PromptTemplate\n",
    "groq_model=ChatGroq(model=\"deepseek-r1-distill-llama-70b\")"
   ]
  },
  {
   "cell_type": "code",
   "execution_count": 11,
   "metadata": {},
   "outputs": [],
   "source": [
    "template = PromptTemplate(\n",
    "    template=\"generate summary for given text {text}\"\n",
    "    ,input_variables=['text']\n",
    ")"
   ]
  },
  {
   "cell_type": "markdown",
   "metadata": {},
   "source": [
    "## Json Output Parser"
   ]
  },
  {
   "cell_type": "code",
   "execution_count": 34,
   "metadata": {},
   "outputs": [
    {
     "data": {
      "text/plain": [
       "'Return a JSON object.'"
      ]
     },
     "execution_count": 34,
     "metadata": {},
     "output_type": "execute_result"
    }
   ],
   "source": [
    "from langchain_core.output_parsers import JsonOutputParser\n",
    "json_parser = JsonOutputParser()\n",
    "json_parser.get_format_instructions()"
   ]
  },
  {
   "cell_type": "code",
   "execution_count": 35,
   "metadata": {},
   "outputs": [],
   "source": [
    "template=PromptTemplate(\n",
    "    template=\"give me name, age and city from the provided text  {text} \\n {format_instructions}\",\n",
    "    input_variables=['text'],\n",
    "    partial_variables={\"format_instructions\":json_parser.get_format_instructions()}\n",
    ")"
   ]
  },
  {
   "cell_type": "code",
   "execution_count": 36,
   "metadata": {},
   "outputs": [],
   "source": [
    "text=\"HI My name is Venky and age is 35 ,staying in Bangalore\"\n",
    "prompt_v1 = template.format(text=text)"
   ]
  },
  {
   "cell_type": "code",
   "execution_count": 37,
   "metadata": {},
   "outputs": [
    {
     "data": {
      "text/plain": [
       "AIMessage(content='<think>\\nAlright, so the user has given me a query where they want me to extract the name, age, and city from a provided text and return it as a JSON object. Let me break this down.\\n\\nFirst, I need to understand the structure of the input. The text is: \"HI My name is Venky and age is 35 ,staying in Bangalore\". It looks like a simple sentence with the necessary information embedded within it.\\n\\nMy goal is to parse this text and extract the specific pieces of information. The name is clearly stated as \"Venky\". That seems straightforward. Next, the age is given as 35. I should make sure to represent this as a number in the JSON, not a string. Then, the city is mentioned as Bangalore.\\n\\nNow, I need to structure this into a JSON object. JSON keys are usually in lowercase and separated by underscores if needed. So, the keys will be \"name\", \"age\", and \"city\". Each will have the corresponding value extracted from the text.\\n\\nI should also check if there are any commas or spaces that might interfere with the extraction. In this case, the age is followed by a comma and space, but since I\\'m looking for the number 35, it should be fine. Similarly, the city is straightforward.\\n\\nPutting it all together, the JSON should look like:\\n{\\n  \"name\": \"Venky\",\\n  \"age\": 35,\\n  \"city\": \"Bangalore\"\\n}\\n\\nI need to make sure the syntax is correct, with commas separating the key-value pairs and proper braces. Also, ensuring that the age is an integer, not a string, is important for data integrity.\\n\\nSo, I think that\\'s all. I extract each value correctly, structure them properly in JSON, and present it as the response.\\n</think>\\n\\nHere is the extracted information in JSON format:\\n\\n```json\\n{\\n  \"name\": \"Venky\",\\n  \"age\": 35,\\n  \"city\": \"Bangalore\"\\n}', additional_kwargs={}, response_metadata={'token_usage': {'completion_tokens': 408, 'prompt_tokens': 37, 'total_tokens': 445, 'completion_time': 1.483636364, 'prompt_time': 0.004500012, 'queue_time': 0.045227244, 'total_time': 1.488136376}, 'model_name': 'deepseek-r1-distill-llama-70b', 'system_fingerprint': 'fp_fc872c073e', 'finish_reason': 'stop', 'logprobs': None}, id='run-33cdfed0-81e4-4940-8f56-f17c4c1bebf7-0', usage_metadata={'input_tokens': 37, 'output_tokens': 408, 'total_tokens': 445})"
      ]
     },
     "execution_count": 37,
     "metadata": {},
     "output_type": "execute_result"
    }
   ],
   "source": [
    "result = groq_model.invoke(prompt_v1)\n",
    "result"
   ]
  },
  {
   "cell_type": "code",
   "execution_count": 38,
   "metadata": {},
   "outputs": [
    {
     "data": {
      "text/plain": [
       "'<think>\\nAlright, so the user has given me a query where they want me to extract the name, age, and city from a provided text and return it as a JSON object. Let me break this down.\\n\\nFirst, I need to understand the structure of the input. The text is: \"HI My name is Venky and age is 35 ,staying in Bangalore\". It looks like a simple sentence with the necessary information embedded within it.\\n\\nMy goal is to parse this text and extract the specific pieces of information. The name is clearly stated as \"Venky\". That seems straightforward. Next, the age is given as 35. I should make sure to represent this as a number in the JSON, not a string. Then, the city is mentioned as Bangalore.\\n\\nNow, I need to structure this into a JSON object. JSON keys are usually in lowercase and separated by underscores if needed. So, the keys will be \"name\", \"age\", and \"city\". Each will have the corresponding value extracted from the text.\\n\\nI should also check if there are any commas or spaces that might interfere with the extraction. In this case, the age is followed by a comma and space, but since I\\'m looking for the number 35, it should be fine. Similarly, the city is straightforward.\\n\\nPutting it all together, the JSON should look like:\\n{\\n  \"name\": \"Venky\",\\n  \"age\": 35,\\n  \"city\": \"Bangalore\"\\n}\\n\\nI need to make sure the syntax is correct, with commas separating the key-value pairs and proper braces. Also, ensuring that the age is an integer, not a string, is important for data integrity.\\n\\nSo, I think that\\'s all. I extract each value correctly, structure them properly in JSON, and present it as the response.\\n</think>\\n\\nHere is the extracted information in JSON format:\\n\\n```json\\n{\\n  \"name\": \"Venky\",\\n  \"age\": 35,\\n  \"city\": \"Bangalore\"\\n}'"
      ]
     },
     "execution_count": 38,
     "metadata": {},
     "output_type": "execute_result"
    }
   ],
   "source": [
    "result.content"
   ]
  },
  {
   "cell_type": "code",
   "execution_count": 27,
   "metadata": {},
   "outputs": [],
   "source": [
    "from langchain_core.output_parsers import StrOutputParser\n",
    "parser=StrOutputParser()"
   ]
  },
  {
   "cell_type": "code",
   "execution_count": 39,
   "metadata": {},
   "outputs": [
    {
     "data": {
      "text/plain": [
       "{'name': 'Venky', 'age': 35, 'city': 'Bangalore'}"
      ]
     },
     "execution_count": 39,
     "metadata": {},
     "output_type": "execute_result"
    }
   ],
   "source": [
    "json_parser.parse(result.content)"
   ]
  },
  {
   "cell_type": "code",
   "execution_count": 40,
   "metadata": {},
   "outputs": [],
   "source": [
    "chain = template | groq_model | json_parser"
   ]
  },
  {
   "cell_type": "code",
   "execution_count": 41,
   "metadata": {},
   "outputs": [
    {
     "data": {
      "text/plain": [
       "{'name': 'Venky', 'age': 35, 'city': 'Bangalore'}"
      ]
     },
     "execution_count": 41,
     "metadata": {},
     "output_type": "execute_result"
    }
   ],
   "source": [
    "chain.invoke({\"text\":text})"
   ]
  },
  {
   "cell_type": "code",
   "execution_count": 42,
   "metadata": {},
   "outputs": [],
   "source": [
    "template2 = PromptTemplate(\n",
    "    template = \"Gimme 5 facts about {topic} \\n {format_instructions}\",\n",
    "    input_variables= ['topic'],\n",
    "    partial_variables={\"format_instructions\":json_parser.get_format_instructions()}   \n",
    "\n",
    ")"
   ]
  },
  {
   "cell_type": "markdown",
   "metadata": {},
   "source": [
    "### Generate Structure Output"
   ]
  },
  {
   "cell_type": "code",
   "execution_count": 43,
   "metadata": {},
   "outputs": [],
   "source": [
    "from langchain.output_parsers import StructuredOutputParser,ResponseSchema\n",
    "schema = [\n",
    "ResponseSchema(name=\"first_fact\",description=\"first fact about text\"),\n",
    "ResponseSchema(name=\"second_fact\",description=\"second fact about text\"),\n",
    "ResponseSchema(name=\"third_fact\",description=\"third fact about text\"),\n",
    "]"
   ]
  },
  {
   "cell_type": "markdown",
   "metadata": {},
   "source": [
    "### Pydantic Output Parser"
   ]
  },
  {
   "cell_type": "code",
   "execution_count": 46,
   "metadata": {},
   "outputs": [],
   "source": [
    "from pydantic import BaseModel,Field\n",
    "from langchain_core.output_parsers import PydanticOutputParser\n",
    "\n",
    "class Person(BaseModel):\n",
    "    name:str = Field(description=\"Name of the person\")\n",
    "    age:int = Field(description=\"age of the person\",gt=18)\n",
    "    city:str = Field(description=\"Name of the city where person is located\")"
   ]
  },
  {
   "cell_type": "code",
   "execution_count": 54,
   "metadata": {},
   "outputs": [
    {
     "data": {
      "text/plain": [
       "'The output should be formatted as a JSON instance that conforms to the JSON schema below.\\n\\nAs an example, for the schema {\"properties\": {\"foo\": {\"title\": \"Foo\", \"description\": \"a list of strings\", \"type\": \"array\", \"items\": {\"type\": \"string\"}}}, \"required\": [\"foo\"]}\\nthe object {\"foo\": [\"bar\", \"baz\"]} is a well-formatted instance of the schema. The object {\"properties\": {\"foo\": [\"bar\", \"baz\"]}} is not well-formatted.\\n\\nHere is the output schema:\\n```\\n{\"properties\": {\"name\": {\"description\": \"Name of the person\", \"title\": \"Name\", \"type\": \"string\"}, \"age\": {\"description\": \"age of the person\", \"exclusiveMinimum\": 18, \"title\": \"Age\", \"type\": \"integer\"}, \"city\": {\"description\": \"Name of the city where person is located\", \"title\": \"City\", \"type\": \"string\"}}, \"required\": [\"name\", \"age\", \"city\"]}\\n```'"
      ]
     },
     "execution_count": 54,
     "metadata": {},
     "output_type": "execute_result"
    }
   ],
   "source": [
    "py_parser = PydanticOutputParser(pydantic_object= Person)\n",
    "py_parser.get_format_instructions()"
   ]
  },
  {
   "cell_type": "code",
   "execution_count": 55,
   "metadata": {},
   "outputs": [],
   "source": [
    "template=PromptTemplate(\n",
    "    template=\"give me name, age and city from the provided text  {text} \\n {format_instructions}\",\n",
    "    input_variables=['text'],\n",
    "    partial_variables={\"format_instructions\":py_parser.get_format_instructions()}\n",
    ")"
   ]
  },
  {
   "cell_type": "code",
   "execution_count": 57,
   "metadata": {},
   "outputs": [
    {
     "data": {
      "text/plain": [
       "'give me name, age and city from the provided text  HI My name is Venky and age is 35 ,staying in Bangalore \\n The output should be formatted as a JSON instance that conforms to the JSON schema below.\\n\\nAs an example, for the schema {\"properties\": {\"foo\": {\"title\": \"Foo\", \"description\": \"a list of strings\", \"type\": \"array\", \"items\": {\"type\": \"string\"}}}, \"required\": [\"foo\"]}\\nthe object {\"foo\": [\"bar\", \"baz\"]} is a well-formatted instance of the schema. The object {\"properties\": {\"foo\": [\"bar\", \"baz\"]}} is not well-formatted.\\n\\nHere is the output schema:\\n```\\n{\"properties\": {\"name\": {\"description\": \"Name of the person\", \"title\": \"Name\", \"type\": \"string\"}, \"age\": {\"description\": \"age of the person\", \"exclusiveMinimum\": 18, \"title\": \"Age\", \"type\": \"integer\"}, \"city\": {\"description\": \"Name of the city where person is located\", \"title\": \"City\", \"type\": \"string\"}}, \"required\": [\"name\", \"age\", \"city\"]}\\n```'"
      ]
     },
     "execution_count": 57,
     "metadata": {},
     "output_type": "execute_result"
    }
   ],
   "source": [
    "text=\"HI My name is Venky and age is 35 ,staying in Bangalore\"\n",
    "prompt_v2 = template.format(text=text)\n",
    "prompt_v2"
   ]
  },
  {
   "cell_type": "code",
   "execution_count": 58,
   "metadata": {},
   "outputs": [
    {
     "data": {
      "text/plain": [
       "AIMessage(content='<think>\\nOkay, so the user gave me this query where they want me to extract name, age, and city from a provided text and format it as a JSON following a specific schema. Let me break this down.\\n\\nFirst, I need to understand the input. The text is \"HI My name is Venky and age is 35 ,staying in Bangalore\". So, I should extract \"Venky\" as the name, \"35\" as the age, and \"Bangalore\" as the city.\\n\\nLooking at the output schema, it requires a JSON object with properties name, age, and city. Each has specific types: name and city are strings, age is an integer. Also, age must be greater than 18. In the example, 35 is way above 18, so that\\'s fine.\\n\\nI should make sure that the JSON is correctly formatted. So, the structure should be like:\\n{\\n  \"name\": \"Venky\",\\n  \"age\": 35,\\n  \"city\": \"Bangalore\"\\n}\\n\\nI also need to ensure that the JSON doesn\\'t have any extra properties and strictly follows the schema. No additional fields should be present. \\n\\nWait, in the text, there\\'s a comma after 35, so I should make sure to parse that correctly, not including any trailing commas in the JSON. Also, the city is clearly mentioned as Bangalore, so that\\'s straightforward.\\n\\nI think that\\'s all. So, I\\'ll format the extracted information into the JSON as specified.\\n</think>\\n\\n```json\\n{\\n  \"name\": \"Venky\",\\n  \"age\": 35,\\n  \"city\": \"Bangalore\"\\n}\\n```', additional_kwargs={}, response_metadata={'token_usage': {'completion_tokens': 338, 'prompt_tokens': 249, 'total_tokens': 587, 'completion_time': 1.229090909, 'prompt_time': 0.016797439, 'queue_time': 0.154640777, 'total_time': 1.245888348}, 'model_name': 'deepseek-r1-distill-llama-70b', 'system_fingerprint': 'fp_454c494f52', 'finish_reason': 'stop', 'logprobs': None}, id='run-46f36cf8-d271-406f-af3e-cbfc32503338-0', usage_metadata={'input_tokens': 249, 'output_tokens': 338, 'total_tokens': 587})"
      ]
     },
     "execution_count": 58,
     "metadata": {},
     "output_type": "execute_result"
    }
   ],
   "source": [
    "groq_model.invoke(prompt_v2)"
   ]
  },
  {
   "cell_type": "code",
   "execution_count": null,
   "metadata": {},
   "outputs": [],
   "source": []
  }
 ],
 "metadata": {
  "kernelspec": {
   "display_name": "Python 3",
   "language": "python",
   "name": "python3"
  },
  "language_info": {
   "codemirror_mode": {
    "name": "ipython",
    "version": 3
   },
   "file_extension": ".py",
   "mimetype": "text/x-python",
   "name": "python",
   "nbconvert_exporter": "python",
   "pygments_lexer": "ipython3",
   "version": "3.10.16"
  }
 },
 "nbformat": 4,
 "nbformat_minor": 2
}
